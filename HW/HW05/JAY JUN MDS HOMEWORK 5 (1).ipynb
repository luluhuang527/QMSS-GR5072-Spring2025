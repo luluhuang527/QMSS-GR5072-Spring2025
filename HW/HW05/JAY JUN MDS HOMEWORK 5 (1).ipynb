{
 "cells": [
  {
   "cell_type": "markdown",
   "id": "7627d1d2-a511-4f7d-aee3-2068766263cb",
   "metadata": {},
   "source": [
    "# Jay Jun Homework 2 #"
   ]
  },
  {
   "cell_type": "code",
   "execution_count": 9,
   "id": "a320345e-5a37-4384-8deb-7571bf785b73",
   "metadata": {},
   "outputs": [],
   "source": [
    "import http\n",
    "import requests\n",
    "import pandas as pd\n",
    "import matplotlib.pyplot as plt"
   ]
  },
  {
   "cell_type": "markdown",
   "id": "36b017b5-40aa-4469-9ce4-907fb7131600",
   "metadata": {},
   "source": [
    "# Part 1: Leverage the lecture code to answer these questions."
   ]
  },
  {
   "cell_type": "markdown",
   "id": "22cdaf81-49a3-4aef-892a-2713ef23ecc2",
   "metadata": {},
   "source": [
    "## 1. Use the BLS Data Finder 1.1 available here to import a BLS variable/field (using the BLS web API) of your choosing."
   ]
  },
  {
   "cell_type": "code",
   "execution_count": 10,
   "id": "daa4c7c9-cf7c-4915-8d5a-b9128a543c2e",
   "metadata": {},
   "outputs": [
    {
     "data": {
      "text/html": [
       "<div>\n",
       "<style scoped>\n",
       "    .dataframe tbody tr th:only-of-type {\n",
       "        vertical-align: middle;\n",
       "    }\n",
       "\n",
       "    .dataframe tbody tr th {\n",
       "        vertical-align: top;\n",
       "    }\n",
       "\n",
       "    .dataframe thead th {\n",
       "        text-align: right;\n",
       "    }\n",
       "</style>\n",
       "<table border=\"1\" class=\"dataframe\">\n",
       "  <thead>\n",
       "    <tr style=\"text-align: right;\">\n",
       "      <th></th>\n",
       "      <th>date</th>\n",
       "      <th>value</th>\n",
       "    </tr>\n",
       "  </thead>\n",
       "  <tbody>\n",
       "    <tr>\n",
       "      <th>26</th>\n",
       "      <td>2023-01-01</td>\n",
       "      <td>4.823</td>\n",
       "    </tr>\n",
       "    <tr>\n",
       "      <th>25</th>\n",
       "      <td>2023-02-01</td>\n",
       "      <td>4.211</td>\n",
       "    </tr>\n",
       "    <tr>\n",
       "      <th>24</th>\n",
       "      <td>2023-03-01</td>\n",
       "      <td>3.446</td>\n",
       "    </tr>\n",
       "    <tr>\n",
       "      <th>23</th>\n",
       "      <td>2023-04-01</td>\n",
       "      <td>3.270</td>\n",
       "    </tr>\n",
       "    <tr>\n",
       "      <th>22</th>\n",
       "      <td>2023-05-01</td>\n",
       "      <td>2.666</td>\n",
       "    </tr>\n",
       "  </tbody>\n",
       "</table>\n",
       "</div>"
      ],
      "text/plain": [
       "         date  value\n",
       "26 2023-01-01  4.823\n",
       "25 2023-02-01  4.211\n",
       "24 2023-03-01  3.446\n",
       "23 2023-04-01  3.270\n",
       "22 2023-05-01  2.666"
      ]
     },
     "execution_count": 10,
     "metadata": {},
     "output_type": "execute_result"
    }
   ],
   "source": [
    "# BLS Series ID for Eggs, grade A, large, per dozen (U.S. city average)\n",
    "series_id = \"APU0000708111\"\n",
    "\n",
    "# Set headers and endpoint\n",
    "headers = {'Content-type': 'application/json'}\n",
    "bls_api_url = 'https://api.bls.gov/publicAPI/v2/timeseries/data/'\n",
    "\n",
    "# Build the request payload (latest 10 years)\n",
    "payload = {\n",
    "    \"seriesid\": [series_id],\n",
    "    \"startyear\": \"2023\",\n",
    "    \"endyear\": \"2025\"\n",
    "}\n",
    "\n",
    "# Make request\n",
    "response = requests.post(bls_api_url, json=payload, headers=headers)\n",
    "data = response.json()\n",
    "\n",
    "# Extract data into a flat list\n",
    "series_data = data['Results']['series'][0]['data']\n",
    "\n",
    "df_eggs = pd.DataFrame(series_data)\n",
    "df_eggs['value'] = pd.to_numeric(df_eggs['value'])\n",
    "df_eggs['date'] = pd.to_datetime(df_eggs['year'] + '-' + df_eggs['period'].str[1:] + '-01', errors='coerce')\n",
    "df_eggs = df_eggs[['date', 'value']].sort_values('date')\n",
    "\n",
    "# Show result\n",
    "df_eggs.head()"
   ]
  },
  {
   "cell_type": "code",
   "execution_count": 11,
   "id": "7a1d3526-abdd-4591-8965-3c628a239aaa",
   "metadata": {},
   "outputs": [
    {
     "ename": "NameError",
     "evalue": "name 'json' is not defined",
     "output_type": "error",
     "traceback": [
      "\u001b[1;31m---------------------------------------------------------------------------\u001b[0m",
      "\u001b[1;31mNameError\u001b[0m                                 Traceback (most recent call last)",
      "Cell \u001b[1;32mIn[11], line 4\u001b[0m\n\u001b[0;32m      2\u001b[0m series_id \u001b[38;5;241m=\u001b[39m \u001b[38;5;124m\"\u001b[39m\u001b[38;5;124mCUUR0000SAM\u001b[39m\u001b[38;5;124m\"\u001b[39m  \u001b[38;5;66;03m# Medical Care\u001b[39;00m\n\u001b[0;32m      3\u001b[0m title \u001b[38;5;241m=\u001b[39m \u001b[38;5;124m\"\u001b[39m\u001b[38;5;124mCPI: Medical Care\u001b[39m\u001b[38;5;124m\"\u001b[39m\n\u001b[1;32m----> 4\u001b[0m df1 \u001b[38;5;241m=\u001b[39m \u001b[43mget_bls_data\u001b[49m\u001b[43m(\u001b[49m\u001b[43mbase_url\u001b[49m\u001b[43m,\u001b[49m\u001b[43m \u001b[49m\u001b[43mseries_id\u001b[49m\u001b[43m,\u001b[49m\u001b[43m \u001b[49m\u001b[43mtitle\u001b[49m\u001b[43m)\u001b[49m\n\u001b[0;32m      5\u001b[0m \u001b[38;5;28mprint\u001b[39m(df1\u001b[38;5;241m.\u001b[39mhead())\n",
      "Cell \u001b[1;32mIn[5], line 3\u001b[0m, in \u001b[0;36mget_bls_data\u001b[1;34m(base_url_in, series_in, title_in)\u001b[0m\n\u001b[0;32m      1\u001b[0m \u001b[38;5;28;01mdef\u001b[39;00m \u001b[38;5;21mget_bls_data\u001b[39m(base_url_in, series_in, title_in):\n\u001b[0;32m      2\u001b[0m     headers \u001b[38;5;241m=\u001b[39m {\u001b[38;5;124m'\u001b[39m\u001b[38;5;124mContent-type\u001b[39m\u001b[38;5;124m'\u001b[39m: \u001b[38;5;124m'\u001b[39m\u001b[38;5;124mapplication/json\u001b[39m\u001b[38;5;124m'\u001b[39m}\n\u001b[1;32m----> 3\u001b[0m     data \u001b[38;5;241m=\u001b[39m \u001b[43mjson\u001b[49m\u001b[38;5;241m.\u001b[39mdumps({\n\u001b[0;32m      4\u001b[0m         \u001b[38;5;124m\"\u001b[39m\u001b[38;5;124mseriesid\u001b[39m\u001b[38;5;124m\"\u001b[39m: [series_in],\n\u001b[0;32m      5\u001b[0m         \u001b[38;5;124m\"\u001b[39m\u001b[38;5;124mstartyear\u001b[39m\u001b[38;5;124m\"\u001b[39m: \u001b[38;5;124m\"\u001b[39m\u001b[38;5;124m2023\u001b[39m\u001b[38;5;124m\"\u001b[39m,\n\u001b[0;32m      6\u001b[0m         \u001b[38;5;124m\"\u001b[39m\u001b[38;5;124mendyear\u001b[39m\u001b[38;5;124m\"\u001b[39m: \u001b[38;5;124m\"\u001b[39m\u001b[38;5;124m2025\u001b[39m\u001b[38;5;124m\"\u001b[39m,\n\u001b[0;32m      7\u001b[0m         \u001b[38;5;124m\"\u001b[39m\u001b[38;5;124mregistrationKey\u001b[39m\u001b[38;5;124m\"\u001b[39m: \u001b[38;5;124m\"\u001b[39m\u001b[38;5;124mYOUR_BLS_API_KEY\u001b[39m\u001b[38;5;124m\"\u001b[39m\n\u001b[0;32m      8\u001b[0m     })\n\u001b[0;32m      9\u001b[0m     response \u001b[38;5;241m=\u001b[39m requests\u001b[38;5;241m.\u001b[39mpost(base_url_in, data\u001b[38;5;241m=\u001b[39mdata, headers\u001b[38;5;241m=\u001b[39mheaders)\n\u001b[0;32m     10\u001b[0m     json_data \u001b[38;5;241m=\u001b[39m response\u001b[38;5;241m.\u001b[39mjson()\n",
      "\u001b[1;31mNameError\u001b[0m: name 'json' is not defined"
     ]
    }
   ],
   "source": [
    "base_url = \"https://api.bls.gov/publicAPI/v2/timeseries/data/\"\n",
    "series_id = \"CUUR0000SAM\"  # Medical Care\n",
    "title = \"CPI: Medical Care\"\n",
    "df1 = get_bls_data(base_url, series_id, title)\n",
    "print(df1.head())"
   ]
  },
  {
   "cell_type": "markdown",
   "id": "1617ecc7-e3e8-4c07-8797-127384d21f94",
   "metadata": {},
   "source": [
    "## 2. Using the BLS web API, create your own custom function which can interact with the BLS web API. Your function should take three input parameters: name base_url_in, series_in, and title_in and return the relevant data series as a pd.DataFrame object. Test your function by replicating the GET request you sent above for #1."
   ]
  },
  {
   "cell_type": "code",
   "execution_count": 19,
   "id": "08ef2f57-7749-4e5d-a47c-a65885bc9cfb",
   "metadata": {},
   "outputs": [],
   "source": [
    "def get_bls_series(base_url_in, series_in, title_in, start_year=\"2023\", end_year=\"2025\"):\n",
    "    headers = {'Content-type': 'application/json'}\n",
    "\n",
    "    payload = {\n",
    "        \"seriesid\": series_in,\n",
    "        \"startyear\": start_year,\n",
    "        \"endyear\": end_year\n",
    "    }\n",
    "    response = requests.post(base_url_in, json=payload, headers=headers)\n",
    "    data = response.json()\n",
    "    \n",
    "    # Extract and format series data\n",
    "    series_data = data['Results']['series'][0]['data']\n",
    "    df = pd.DataFrame(series_data)\n",
    "    df['value'] = pd.to_numeric(df['value'], errors='coerce')\n",
    "    df['date'] = pd.to_datetime(df['year'] + '-' + df['period'].str[1:] + '-01', errors='coerce')\n",
    "    df = df[['date', 'value']].sort_values('date').reset_index(drop=True)\n",
    "    df = df.rename(columns={'value': title_in})\n",
    "    \n",
    "    return df"
   ]
  },
  {
   "cell_type": "code",
   "execution_count": 21,
   "id": "6c43fa3e-2f3e-453f-bc29-a4a90c8051f1",
   "metadata": {},
   "outputs": [
    {
     "data": {
      "text/html": [
       "<div>\n",
       "<style scoped>\n",
       "    .dataframe tbody tr th:only-of-type {\n",
       "        vertical-align: middle;\n",
       "    }\n",
       "\n",
       "    .dataframe tbody tr th {\n",
       "        vertical-align: top;\n",
       "    }\n",
       "\n",
       "    .dataframe thead th {\n",
       "        text-align: right;\n",
       "    }\n",
       "</style>\n",
       "<table border=\"1\" class=\"dataframe\">\n",
       "  <thead>\n",
       "    <tr style=\"text-align: right;\">\n",
       "      <th></th>\n",
       "      <th>date</th>\n",
       "      <th>Eggs (per dozen, U.S. avg)</th>\n",
       "    </tr>\n",
       "  </thead>\n",
       "  <tbody>\n",
       "    <tr>\n",
       "      <th>0</th>\n",
       "      <td>2023-01-01</td>\n",
       "      <td>4.823</td>\n",
       "    </tr>\n",
       "    <tr>\n",
       "      <th>1</th>\n",
       "      <td>2023-02-01</td>\n",
       "      <td>4.211</td>\n",
       "    </tr>\n",
       "    <tr>\n",
       "      <th>2</th>\n",
       "      <td>2023-03-01</td>\n",
       "      <td>3.446</td>\n",
       "    </tr>\n",
       "    <tr>\n",
       "      <th>3</th>\n",
       "      <td>2023-04-01</td>\n",
       "      <td>3.270</td>\n",
       "    </tr>\n",
       "    <tr>\n",
       "      <th>4</th>\n",
       "      <td>2023-05-01</td>\n",
       "      <td>2.666</td>\n",
       "    </tr>\n",
       "  </tbody>\n",
       "</table>\n",
       "</div>"
      ],
      "text/plain": [
       "        date  Eggs (per dozen, U.S. avg)\n",
       "0 2023-01-01                       4.823\n",
       "1 2023-02-01                       4.211\n",
       "2 2023-03-01                       3.446\n",
       "3 2023-04-01                       3.270\n",
       "4 2023-05-01                       2.666"
      ]
     },
     "execution_count": 21,
     "metadata": {},
     "output_type": "execute_result"
    }
   ],
   "source": [
    "#Testing the function by replicating the GET request\n",
    "base_url = \"https://api.bls.gov/publicAPI/v2/timeseries/data/\"\n",
    "series_id = [\"APU0000708111\"]\n",
    "title = \"Eggs (per dozen, U.S. avg)\"\n",
    "\n",
    "df_eggs_test = get_bls_series(base_url, series_id, title)\n",
    "\n",
    "df_eggs_test.head()"
   ]
  },
  {
   "cell_type": "markdown",
   "id": "37514dee-01ff-4081-ab37-18879a7adfaf",
   "metadata": {},
   "source": [
    "## 3. Go to these three links: link1, link2, link3. On these webpages, you will see three different time series data sets. For each, you will also see both a Series Title and ID. Using the function you wrote to fetch data from the BLS web API, import these data sets into Python as three separate pd.Data.Frame objects."
   ]
  },
  {
   "cell_type": "code",
   "execution_count": 36,
   "id": "a4be9366-9ff1-486e-88f5-9fcf2f110171",
   "metadata": {},
   "outputs": [],
   "source": [
    "# Base URL for BLS API\n",
    "base_url = \"https://api.bls.gov/publicAPI/v2/timeseries/data/\"\n",
    "\n",
    "#Milk prices\n",
    "df_milk = get_bls_series(\n",
    "    base_url_in=base_url,\n",
    "    series_in=[\"APU0000709112\"],\n",
    "    title_in=\"Milk (per gallon)\"\n",
    ")\n",
    "\n",
    "#Gasoline prices\n",
    "df_gasoline = get_bls_series(\n",
    "    base_url_in=base_url,\n",
    "    series_in=[\"APU000074714\"],\n",
    "    title_in=\"Gasoline (per gallon)\"\n",
    ")\n",
    "\n",
    "#Egg prices\n",
    "df_eggs = get_bls_series(\n",
    "    base_url_in=base_url,\n",
    "    series_in=[\"APU0000708111\"],\n",
    "    title_in=\"Eggs (per dozen)\"\n",
    ")\n"
   ]
  },
  {
   "cell_type": "code",
   "execution_count": 38,
   "id": "a77ceb19-96dd-439d-a127-18922c608c80",
   "metadata": {},
   "outputs": [
    {
     "data": {
      "text/html": [
       "<div>\n",
       "<style scoped>\n",
       "    .dataframe tbody tr th:only-of-type {\n",
       "        vertical-align: middle;\n",
       "    }\n",
       "\n",
       "    .dataframe tbody tr th {\n",
       "        vertical-align: top;\n",
       "    }\n",
       "\n",
       "    .dataframe thead th {\n",
       "        text-align: right;\n",
       "    }\n",
       "</style>\n",
       "<table border=\"1\" class=\"dataframe\">\n",
       "  <thead>\n",
       "    <tr style=\"text-align: right;\">\n",
       "      <th></th>\n",
       "      <th>date</th>\n",
       "      <th>Milk (per gallon)</th>\n",
       "    </tr>\n",
       "  </thead>\n",
       "  <tbody>\n",
       "    <tr>\n",
       "      <th>0</th>\n",
       "      <td>2023-01-01</td>\n",
       "      <td>4.204</td>\n",
       "    </tr>\n",
       "    <tr>\n",
       "      <th>1</th>\n",
       "      <td>2023-02-01</td>\n",
       "      <td>4.163</td>\n",
       "    </tr>\n",
       "    <tr>\n",
       "      <th>2</th>\n",
       "      <td>2023-03-01</td>\n",
       "      <td>4.098</td>\n",
       "    </tr>\n",
       "    <tr>\n",
       "      <th>3</th>\n",
       "      <td>2023-04-01</td>\n",
       "      <td>4.042</td>\n",
       "    </tr>\n",
       "    <tr>\n",
       "      <th>4</th>\n",
       "      <td>2023-05-01</td>\n",
       "      <td>4.042</td>\n",
       "    </tr>\n",
       "  </tbody>\n",
       "</table>\n",
       "</div>"
      ],
      "text/plain": [
       "        date  Milk (per gallon)\n",
       "0 2023-01-01              4.204\n",
       "1 2023-02-01              4.163\n",
       "2 2023-03-01              4.098\n",
       "3 2023-04-01              4.042\n",
       "4 2023-05-01              4.042"
      ]
     },
     "execution_count": 38,
     "metadata": {},
     "output_type": "execute_result"
    }
   ],
   "source": [
    "#Looking at milk data\n",
    "df_milk.head()"
   ]
  },
  {
   "cell_type": "code",
   "execution_count": 42,
   "id": "928064dc-b4b7-46ed-bb63-934362427496",
   "metadata": {},
   "outputs": [
    {
     "data": {
      "text/html": [
       "<div>\n",
       "<style scoped>\n",
       "    .dataframe tbody tr th:only-of-type {\n",
       "        vertical-align: middle;\n",
       "    }\n",
       "\n",
       "    .dataframe tbody tr th {\n",
       "        vertical-align: top;\n",
       "    }\n",
       "\n",
       "    .dataframe thead th {\n",
       "        text-align: right;\n",
       "    }\n",
       "</style>\n",
       "<table border=\"1\" class=\"dataframe\">\n",
       "  <thead>\n",
       "    <tr style=\"text-align: right;\">\n",
       "      <th></th>\n",
       "      <th>date</th>\n",
       "      <th>Gasoline (per gallon)</th>\n",
       "    </tr>\n",
       "  </thead>\n",
       "  <tbody>\n",
       "    <tr>\n",
       "      <th>0</th>\n",
       "      <td>2023-01-01</td>\n",
       "      <td>3.452</td>\n",
       "    </tr>\n",
       "    <tr>\n",
       "      <th>1</th>\n",
       "      <td>2023-02-01</td>\n",
       "      <td>3.514</td>\n",
       "    </tr>\n",
       "    <tr>\n",
       "      <th>2</th>\n",
       "      <td>2023-03-01</td>\n",
       "      <td>3.551</td>\n",
       "    </tr>\n",
       "    <tr>\n",
       "      <th>3</th>\n",
       "      <td>2023-04-01</td>\n",
       "      <td>3.735</td>\n",
       "    </tr>\n",
       "    <tr>\n",
       "      <th>4</th>\n",
       "      <td>2023-05-01</td>\n",
       "      <td>3.685</td>\n",
       "    </tr>\n",
       "  </tbody>\n",
       "</table>\n",
       "</div>"
      ],
      "text/plain": [
       "        date  Gasoline (per gallon)\n",
       "0 2023-01-01                  3.452\n",
       "1 2023-02-01                  3.514\n",
       "2 2023-03-01                  3.551\n",
       "3 2023-04-01                  3.735\n",
       "4 2023-05-01                  3.685"
      ]
     },
     "execution_count": 42,
     "metadata": {},
     "output_type": "execute_result"
    }
   ],
   "source": [
    "#Looking at gasoline data\n",
    "df_gasoline.head()"
   ]
  },
  {
   "cell_type": "code",
   "execution_count": 44,
   "id": "1837258d-ce74-4deb-b5be-f9788c523b94",
   "metadata": {},
   "outputs": [
    {
     "data": {
      "text/html": [
       "<div>\n",
       "<style scoped>\n",
       "    .dataframe tbody tr th:only-of-type {\n",
       "        vertical-align: middle;\n",
       "    }\n",
       "\n",
       "    .dataframe tbody tr th {\n",
       "        vertical-align: top;\n",
       "    }\n",
       "\n",
       "    .dataframe thead th {\n",
       "        text-align: right;\n",
       "    }\n",
       "</style>\n",
       "<table border=\"1\" class=\"dataframe\">\n",
       "  <thead>\n",
       "    <tr style=\"text-align: right;\">\n",
       "      <th></th>\n",
       "      <th>date</th>\n",
       "      <th>Eggs (per dozen)</th>\n",
       "    </tr>\n",
       "  </thead>\n",
       "  <tbody>\n",
       "    <tr>\n",
       "      <th>0</th>\n",
       "      <td>2023-01-01</td>\n",
       "      <td>4.823</td>\n",
       "    </tr>\n",
       "    <tr>\n",
       "      <th>1</th>\n",
       "      <td>2023-02-01</td>\n",
       "      <td>4.211</td>\n",
       "    </tr>\n",
       "    <tr>\n",
       "      <th>2</th>\n",
       "      <td>2023-03-01</td>\n",
       "      <td>3.446</td>\n",
       "    </tr>\n",
       "    <tr>\n",
       "      <th>3</th>\n",
       "      <td>2023-04-01</td>\n",
       "      <td>3.270</td>\n",
       "    </tr>\n",
       "    <tr>\n",
       "      <th>4</th>\n",
       "      <td>2023-05-01</td>\n",
       "      <td>2.666</td>\n",
       "    </tr>\n",
       "  </tbody>\n",
       "</table>\n",
       "</div>"
      ],
      "text/plain": [
       "        date  Eggs (per dozen)\n",
       "0 2023-01-01             4.823\n",
       "1 2023-02-01             4.211\n",
       "2 2023-03-01             3.446\n",
       "3 2023-04-01             3.270\n",
       "4 2023-05-01             2.666"
      ]
     },
     "execution_count": 44,
     "metadata": {},
     "output_type": "execute_result"
    }
   ],
   "source": [
    "#Looking at eggs data\n",
    "df_eggs.head()"
   ]
  },
  {
   "cell_type": "markdown",
   "id": "9946efd3-897c-4b09-9350-75989a01805e",
   "metadata": {},
   "source": [
    "## 3.Merge the data sets together into a single pd.DataFrame and make a time series plot showing how the CPI for these three goods has changed over the last 24 months. Each good should be shown as a unique line with different coloring/patterns and a matching legend (I suggest using the matplotlib library to do this)."
   ]
  },
  {
   "cell_type": "code",
   "execution_count": 49,
   "id": "7358c8b0-85ce-4a7a-aad1-7ea0b007f055",
   "metadata": {},
   "outputs": [],
   "source": [
    "# Merge milk, gasoline, and eggs on 'date'.'Chaining' merge.\n",
    "df_merged = df_milk.merge(df_gasoline, on=\"date\").merge(df_eggs, on=\"date\")\n",
    "\n",
    "# Keep only the last 24 months\n",
    "df_last24 = df_merged.sort_values(\"date\").tail(24).reset_index(drop=True)"
   ]
  },
  {
   "cell_type": "code",
   "execution_count": 53,
   "id": "b6954a34-791b-4182-abbe-6892a83c374b",
   "metadata": {},
   "outputs": [
    {
     "data": {
      "image/png": "[encoded data removed]",
      "text/plain": [
       "<Figure size 640x480 with 1 Axes>"
      ]
     },
     "metadata": {},
     "output_type": "display_data"
    }
   ],
   "source": [
    "# Plot each series\n",
    "plt.plot(df_last24['date'], df_last24['Milk (per gallon)'], label='Milk (per gallon)', linestyle='-', marker='o')\n",
    "plt.plot(df_last24['date'], df_last24['Gasoline (per gallon)'], label='Gasoline (per gallon)', linestyle='--', marker='s')\n",
    "plt.plot(df_last24['date'], df_last24['Eggs (per dozen)'], label='Eggs (per dozen)', linestyle='-.', marker='^')\n",
    "\n",
    "# Add labels and formatting\n",
    "plt.legend()\n",
    "plt.xlabel(\"Date\")\n",
    "plt.ylabel(\"Avg Price in U.S. Dollars\")\n",
    "plt.title(\"Milk, Gasoline, and Egg Prices Over the Last 24 Months\")\n",
    "plt.xticks(rotation=45)\n",
    "plt.grid(True)\n",
    "plt.tight_layout()\n",
    "\n",
    "plt.show()"
   ]
  },
  {
   "cell_type": "markdown",
   "id": "092818fe-5a98-45d2-98f5-5f1e1a5c1d5c",
   "metadata": {},
   "source": [
    "## 5. In the lecture notes, refer to the section entitled \"No Python Package? Manipulate URL directly\". Can you update the code in the New York Times article search API URL so that you return article data for Hillary Clinton for the time range April 1, 2024 - April 4, 2024? How many TOTAL articles were returned by this API search?"
   ]
  },
  {
   "cell_type": "code",
   "execution_count": 60,
   "id": "aa04f57a-bda0-44d6-86cd-553b9424fcb8",
   "metadata": {},
   "outputs": [
    {
     "name": "stdout",
     "output_type": "stream",
     "text": [
      "Number of articles: 5\n"
     ]
    }
   ],
   "source": [
    "article_key = \"7z0h7UUwSfh5nFGdAhx9dWMJ7bQVKZiz\"  # Replace with your real key if needed\n",
    "term = \"Hillary+Clinton\"  # use + for multi-word terms\n",
    "begin_date = \"20240401\"\n",
    "end_date = \"20240404\"\n",
    "\n",
    "# Constructing the final URL\n",
    "finalurl = (\n",
    "    \"https://api.nytimes.com/svc/search/v2/articlesearch.json\"\n",
    "    \"?q=\" + term +\n",
    "    \"&begin_date=\" + begin_date +\n",
    "    \"&end_date=\" + end_date +\n",
    "    \"&api-key=\" + article_key\n",
    ")\n",
    "\n",
    "# Fetching and parsing the JSON data\n",
    "r = requests.get(finalurl)\n",
    "r = r.json()\n",
    "\n",
    "# Converting 'docs' field to DataFrame\n",
    "data = pd.DataFrame(r['response']['docs'])\n",
    "\n",
    "# Viewing Results\n",
    "print(\"Number of articles:\", data.shape[0])"
   ]
  },
  {
   "cell_type": "markdown",
   "id": "359dfa88-b6ea-4570-b070-91ac9a57694c",
   "metadata": {},
   "source": [
    "# Part 2 Connect to other APIs"
   ]
  },
  {
   "cell_type": "markdown",
   "id": "1f63e43d-bae3-40ae-90d4-9af647e251ea",
   "metadata": {},
   "source": [
    "## 6. In this question, we will connect to the Spotify API. Spotify has a package called spotipy which makes this easy. Using their API documentation, your task is to figure out how to use the album function listed on this webpage to import Queen's Greatest Hits album. Once you have successfully used spotipy to pull in data for this album, write a for loop to display the following message, making sure you align the numbers as is done here:"
   ]
  },
  {
   "cell_type": "code",
   "execution_count": 69,
   "id": "beceed87-c273-4057-83f2-98f147cb0a6f",
   "metadata": {},
   "outputs": [
    {
     "name": "stdout",
     "output_type": "stream",
     "text": [
      "Collecting spotipy\n",
      "  Downloading spotipy-2.25.1-py3-none-any.whl.metadata (5.1 kB)\n",
      "Collecting redis>=3.5.3 (from spotipy)\n",
      "  Downloading redis-5.2.1-py3-none-any.whl.metadata (9.1 kB)\n",
      "Requirement already satisfied: requests>=2.25.0 in c:\\users\\jayxp\\anaconda3\\lib\\site-packages (from spotipy) (2.32.2)\n",
      "Requirement already satisfied: urllib3>=1.26.0 in c:\\users\\jayxp\\anaconda3\\lib\\site-packages (from spotipy) (2.2.2)\n",
      "Requirement already satisfied: charset-normalizer<4,>=2 in c:\\users\\jayxp\\anaconda3\\lib\\site-packages (from requests>=2.25.0->spotipy) (2.0.4)\n",
      "Requirement already satisfied: idna<4,>=2.5 in c:\\users\\jayxp\\anaconda3\\lib\\site-packages (from requests>=2.25.0->spotipy) (3.7)\n",
      "Requirement already satisfied: certifi>=2017.4.17 in c:\\users\\jayxp\\anaconda3\\lib\\site-packages (from requests>=2.25.0->spotipy) (2025.1.31)\n",
      "Downloading spotipy-2.25.1-py3-none-any.whl (31 kB)\n",
      "Downloading redis-5.2.1-py3-none-any.whl (261 kB)\n",
      "   ---------------------------------------- 0.0/261.5 kB ? eta -:--:--\n",
      "   ---------------------------------------- 0.0/261.5 kB ? eta -:--:--\n",
      "   ------ --------------------------------- 41.0/261.5 kB 1.9 MB/s eta 0:00:01\n",
      "   ----------------------- ---------------- 153.6/261.5 kB 2.3 MB/s eta 0:00:01\n",
      "   ---------------------------------------- 261.5/261.5 kB 2.3 MB/s eta 0:00:00\n",
      "Installing collected packages: redis, spotipy\n",
      "Successfully installed redis-5.2.1 spotipy-2.25.1\n",
      "Note: you may need to restart the kernel to use updated packages.\n"
     ]
    }
   ],
   "source": [
    "#Installing spotipy\n",
    "pip install spotipy"
   ]
  },
  {
   "cell_type": "code",
   "execution_count": 2,
   "id": "cb79a918-f3e7-42b0-b63c-a4427b3fd21e",
   "metadata": {},
   "outputs": [],
   "source": [
    "import spotipy\n",
    "from spotipy.oauth2 import SpotifyClientCredentials"
   ]
  },
  {
   "cell_type": "code",
   "execution_count": 3,
   "id": "398b0dbe-9bd1-4c6e-81bb-6fa2b88b3d16",
   "metadata": {},
   "outputs": [
    {
     "name": "stdout",
     "output_type": "stream",
     "text": [
      "Track  1  is 20th Century Fox Fanfare\n",
      "Track  2  is Somebody To Love\n",
      "Track  3  is Doing All Right - ...Revisited\n",
      "Track  4  is Keep Yourself Alive - Live At The Rainbow\n",
      "Track  5  is Killer Queen\n",
      "Track  6  is Fat Bottomed Girls - Live In Paris\n",
      "Track  7  is Bohemian Rhapsody\n",
      "Track  8  is Now I'm Here - Live At The Hammersmith Odeon\n",
      "Track  9  is Crazy Little Thing Called Love\n",
      "Track 10  is Love Of My Life - Live At Rock In Rio\n",
      "Track 11  is We Will Rock You - Movie Mix\n",
      "Track 12  is Another One Bites The Dust\n",
      "Track 13  is I Want To Break Free\n",
      "Track 14  is Under Pressure\n",
      "Track 15  is Who Wants To Live Forever\n",
      "Track 16  is Bohemian Rhapsody - Live Aid\n",
      "Track 17  is Radio Ga Ga - Live Aid\n",
      "Track 18  is Ay-Oh - Live Aid\n",
      "Track 19  is Hammer To Fall - Live Aid\n",
      "Track 20  is We Are The Champions - Live Aid\n",
      "Track 21  is Don't Stop Me Now - ...Revisited\n",
      "Track 22  is The Show Must Go On\n"
     ]
    }
   ],
   "source": [
    "# Step 1: Authenticate\n",
    "cid = '1d79c7320efe48be8555674d48a7fd2d'\n",
    "secret = '34a7cabc5f624302b9bb25c29d1c8057'\n",
    "client_credentials_manager = SpotifyClientCredentials(client_id=cid, client_secret=secret)\n",
    "sp = spotipy.Spotify(client_credentials_manager=client_credentials_manager)\n",
    "\n",
    "# Step 2: Album ID for Queen's Greatest Hits\n",
    "album_id = '6i6folBtxKV28WX3msQ4FE'\n",
    "\n",
    "# Step 3: Fetch the album data\n",
    "album_data = sp.album(album_id)\n",
    "tracks = album_data['tracks']['items']\n",
    "\n",
    "# Step 4: Print each track nicely\n",
    "for idx, track in enumerate(tracks, start=1):\n",
    "    print(f\"Track {idx:2}  is {track['name']}\")"
   ]
  },
  {
   "cell_type": "markdown",
   "id": "fc61be23-cc32-43ff-b962-c11c16453840",
   "metadata": {},
   "source": [
    "## 7. Find an API of interest to you. Sign up for an API key if necessary. Describe the API concisely and make a single call on the API and return an example of the returned data here"
   ]
  },
  {
   "cell_type": "markdown",
   "id": "c57a113e-2185-4b8d-b410-f064502b4b92",
   "metadata": {},
   "source": [
    "# This API comes from a website called Untapped.gg and pulls in data from the next generation real-time social strategy game 'Stormgate'. Untapped.gg provide public access to this data, and the data is not limited to player statistics, but shows match histories and other stat tracking data. The following data shows the best top 10 players in the 1v1 ranked mode in that game. Data shows the name of the player, the race they in game, there mmr (match making rating, points, and what league they are in). "
   ]
  },
  {
   "cell_type": "code",
   "execution_count": 109,
   "id": "c3789725-23c8-4405-ba88-1de9c5a33316",
   "metadata": {},
   "outputs": [
    {
     "name": "stdout",
     "output_type": "stream",
     "text": [
      "                        playerName        race   mmr  points  league\n",
      "0                    ZEROSUGARCOKE    vanguard  2432    2443  master\n",
      "1  ThisSpaceIntentionallyLeftBlank   infernals  2435    2418  master\n",
      "2                        gawr gura   infernals  2385    2413  master\n",
      "3                          Andreas   infernals  2350    2349  master\n",
      "4                             Mixu  celestials  2241    2347  master\n",
      "5                             msrm   infernals  2297    2340  master\n",
      "6                Silverpine Forest   infernals  2320    2339  master\n",
      "7                    Ousmane Sonko   infernals  2320    2338  master\n",
      "8                             ROFL    vanguard  2336    2326  master\n",
      "9                   BANG BANG FIRE   infernals  2323    2318  master\n"
     ]
    }
   ],
   "source": [
    "# Get top 500 players in ranked 1v1\n",
    "url = \"https://api.stormgate.untapped.gg/api/v1/leaderboard?match_mode=ranked_1v1\"\n",
    "response = requests.get(url)\n",
    "\n",
    "# Parse JSON\n",
    "data = response.json()\n",
    "\n",
    "# Convert to DataFrame\n",
    "df = pd.DataFrame(data)\n",
    "\n",
    "# Show top 5 players\n",
    "print(df[['playerName', 'race', 'mmr', 'points', 'league']].head(10))"
   ]
  },
  {
   "cell_type": "markdown",
   "id": "9fa18c45-0e61-4ab5-83b3-670b299d646b",
   "metadata": {},
   "source": [
    "## 8. Import the data found in the HW5 folder. It is a single column of data that has 500 rows. This data represents a format of data that you will often encounter in research projects which use \"thematic coding\" for text response data. As described here: \"Thematic coding is a form of qualitative analysis that involves recording or identifying passages of text or images that are linked by a common theme or idea allowing you to index the text into categories and therefore establish a 'framework of thematic ideas about it' (Gibbs 2007).\"\n",
    "\n",
    "## It is ok if you are not familiar with thematic coding for qualitative/text data. Your task is to import the data and write a regex that is capable of finding the thematic code \"1\" whenever it appears in the string. This is more difficult than it sounds, because your regex should count all the \"1\"s that appear, but not \"10\", \"11\", \"12\", \"21\" etc. Also note, that sometimes \"1\" appears in the 2nd, 3rd... etc. position (e.g., \"2, 6, 7, 1, 10\"). Use this regex to add a new column to your dataset called \"find_1\". Display a frequency table showing the number of times your regex flagged \"1\" as appearing."
   ]
  },
  {
   "cell_type": "code",
   "execution_count": 113,
   "id": "68f752ef-e1a2-4326-b73f-7177d534d631",
   "metadata": {},
   "outputs": [],
   "source": [
    "import re"
   ]
  },
  {
   "cell_type": "code",
   "execution_count": 125,
   "id": "504ef1ec-857f-429e-bb96-b414e9045bd1",
   "metadata": {},
   "outputs": [
    {
     "name": "stdout",
     "output_type": "stream",
     "text": [
      "has_1\n",
      "No 1 Found    437\n",
      "1 Found        63\n",
      "Name: count, dtype: int64\n"
     ]
    }
   ],
   "source": [
    "df = pd.read_csv(r\"C:\\Users\\jayxp\\Downloads\\Thematic codes data.csv\")\n",
    "\n",
    "# Define regex pattern to match standalone \"1\" (not part of 10, 11, and etc.)\n",
    "pattern = r'(?<!\\d)1(?!\\d)'\n",
    "\n",
    "# Apply regex to count all occurrences of standalone \"1\" in each row\n",
    "df['find_1'] = df['Thematic codes'].apply(lambda x: len(re.findall(pattern, str(x))))\n",
    "\n",
    "# Create binary indicator (0 = no \"1\" found, 1 = at least one \"1\" found)\n",
    "df['has_1'] = df['find_1'].apply(lambda x: 1 if x > 0 else 0)\n",
    "\n",
    "# Create and display a frequency table with your preferred labels\n",
    "frequency_table = df['has_1'].value_counts().rename(index={0: 'No 1 Found', 1: '1 Found'})\n",
    "print(frequency_table)"
   ]
  }
 ],
 "metadata": {
  "kernelspec": {
   "display_name": "Python 3 (ipykernel)",
   "language": "python",
   "name": "python3"
  },
  "language_info": {
   "codemirror_mode": {
    "name": "ipython",
    "version": 3
   },
   "file_extension": ".py",
   "mimetype": "text/x-python",
   "name": "python",
   "nbconvert_exporter": "python",
   "pygments_lexer": "ipython3",
   "version": "3.12.5"
  }
 },
 "nbformat": 4,
 "nbformat_minor": 5
}
