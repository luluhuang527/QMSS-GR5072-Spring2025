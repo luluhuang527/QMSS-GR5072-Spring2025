{
 "cells": [
  {
   "cell_type": "markdown",
   "id": "f7720b2d-914c-4fbf-99bc-82ac3f678491",
   "metadata": {},
   "source": [
    "# Modern Data Structures Homework 3"
   ]
  },
  {
   "cell_type": "markdown",
   "id": "7c70eef4-0d39-411a-9e9b-5cffd2a05324",
   "metadata": {},
   "source": [
    "Hsin-Ju (Lulu) Huang  \n",
    "hh3105"
   ]
  },
  {
   "cell_type": "code",
   "execution_count": 36,
   "id": "e7a1c3bd-0c39-4791-8f3a-fcba9315b092",
   "metadata": {},
   "outputs": [],
   "source": [
    "import http\n",
    "import requests\n",
    "import pandas as pd\n",
    "import matplotlib.pyplot as plt\n",
    "import json\n",
    "from datetime import datetime"
   ]
  },
  {
   "cell_type": "markdown",
   "id": "6707147e-4b36-43f1-a9da-e36b919fff72",
   "metadata": {},
   "source": [
    "# Part 1: Leverage the lecture code to answer these questions.\n",
    "## 1. Use the BLS Data Finder 1.1 available here to import a BLS variable/field (using the BLS web API) of your choosing."
   ]
  },
  {
   "cell_type": "code",
   "execution_count": 37,
   "id": "f12c7ccd-543d-49ed-806d-a26bfe704c72",
   "metadata": {},
   "outputs": [
    {
     "name": "stdout",
     "output_type": "stream",
     "text": [
      "         date    value\n",
      "26 2023-01-01  551.422\n",
      "25 2023-02-01  549.487\n",
      "24 2023-03-01  547.805\n",
      "23 2023-04-01  547.219\n",
      "22 2023-05-01  547.420\n"
     ]
    }
   ],
   "source": [
    "import requests\n",
    "import pandas as pd\n",
    "\n",
    "# CPI Series ID for Medical Care (U.S. city average)\n",
    "med_care_series = \"CUUR0000SAM\"\n",
    "\n",
    "# BLS API endpoint\n",
    "bls_url = \"https://api.bls.gov/publicAPI/v2/timeseries/data/\"\n",
    "headers = {\"Content-type\": \"application/json\"}\n",
    "\n",
    "# Prepare request payload\n",
    "request_payload = {\n",
    "    \"seriesid\": [med_care_series],\n",
    "    \"startyear\": \"2023\",\n",
    "    \"endyear\": \"2025\"\n",
    "}\n",
    "\n",
    "# Request data from BLS\n",
    "response = requests.post(bls_url, json=request_payload, headers=headers)\n",
    "response_json = response.json()\n",
    "\n",
    "# Extract and structure the data\n",
    "med_data = response_json[\"Results\"][\"series\"][0][\"data\"]\n",
    "df_medcare = pd.DataFrame(med_data)\n",
    "\n",
    "# Convert values and create datetime column\n",
    "df_medcare[\"value\"] = pd.to_numeric(df_medcare[\"value\"], errors=\"coerce\")\n",
    "df_medcare[\"date\"] = pd.to_datetime(\n",
    "    df_medcare[\"year\"] + \"-\" + df_medcare[\"period\"].str[1:] + \"-01\", errors=\"coerce\"\n",
    ")\n",
    "\n",
    "# Clean up and sort\n",
    "df_medcare = df_medcare[[\"date\", \"value\"]].dropna().sort_values(\"date\")\n",
    "\n",
    "# Display sample\n",
    "print(df_medcare.head())"
   ]
  },
  {
   "cell_type": "markdown",
   "id": "d61ad1ad-d296-4cdb-9228-e33c50f4d7e6",
   "metadata": {},
   "source": [
    "## 2. [10 pts] Using the BLS web API, create your own custom function which can interact with the BLS web API. Your function should take three input parameters: name base_url_in, series_in, and title_in and return the relevant data series as a pd.DataFrame object. Test your function by replicating the GET request you sent above for #1."
   ]
  },
  {
   "cell_type": "code",
   "execution_count": 38,
   "id": "832ddac0-d235-4fdb-bf92-1125319107a8",
   "metadata": {},
   "outputs": [],
   "source": [
    "def fetch_bls_series(base_url_in, series_in, title_in):\n",
    "    headers = {\"Content-type\": \"application/json\"}\n",
    "    payload = {\n",
    "        \"seriesid\": [series_in],\n",
    "        \"startyear\": \"2023\",\n",
    "        \"endyear\": \"2025\"\n",
    "    }\n",
    "    \n",
    "    response = requests.post(base_url_in, json=payload, headers=headers)\n",
    "    response_json = response.json()\n",
    "    \n",
    "    if 'Results' not in response_json:\n",
    "        print(\"Error in response:\", response_json)\n",
    "        return pd.DataFrame()\n",
    "    \n",
    "    data_points = response_json[\"Results\"][\"series\"][0][\"data\"]\n",
    "    df = pd.DataFrame(data_points)\n",
    "    \n",
    "    # Data cleaning\n",
    "    df[\"value\"] = pd.to_numeric(df[\"value\"], errors=\"coerce\")\n",
    "    df[\"date\"] = pd.to_datetime(\n",
    "        df[\"year\"] + \"-\" + df[\"period\"].str[1:] + \"-01\", errors=\"coerce\"\n",
    "    )\n",
    "    df[\"series_title\"] = title_in\n",
    "    \n",
    "    df = df[[\"date\", \"value\", \"series_title\"]].dropna().sort_values(\"date\")\n",
    "    return df\n"
   ]
  },
  {
   "cell_type": "code",
   "execution_count": 39,
   "id": "75f5e3e0-bd2f-420d-9090-6c041522ea0b",
   "metadata": {},
   "outputs": [
    {
     "name": "stdout",
     "output_type": "stream",
     "text": [
      "         date    value       series_title\n",
      "26 2023-01-01  551.422  CPI: Medical Care\n",
      "25 2023-02-01  549.487  CPI: Medical Care\n",
      "24 2023-03-01  547.805  CPI: Medical Care\n",
      "23 2023-04-01  547.219  CPI: Medical Care\n",
      "22 2023-05-01  547.420  CPI: Medical Care\n"
     ]
    }
   ],
   "source": [
    "# Inputs\n",
    "base_url = \"https://api.bls.gov/publicAPI/v2/timeseries/data/\"\n",
    "series_id = \"CUUR0000SAM\"  # Medical care CPI\n",
    "series_title = \"CPI: Medical Care\"\n",
    "\n",
    "# Call the custom function\n",
    "df_med = fetch_bls_series(base_url, series_id, series_title)\n",
    "\n",
    "# Check the result\n",
    "print(df_med.head())"
   ]
  },
  {
   "cell_type": "markdown",
   "id": "e3134ba8-2637-42fe-b2ec-fde571323bd7",
   "metadata": {},
   "source": [
    "## 3. [10 pts] Go to these three links: link1, link2, link3. On these webpages, you will see three different time series data sets. For each, you will also see both a Series Title and ID. Using the function you wrote to fetch data from the BLS web API, import these data sets into Python as three separate pd.Data.Frame objects."
   ]
  },
  {
   "cell_type": "code",
   "execution_count": 40,
   "id": "2c540cdd-0949-452f-82bb-6e93455903b3",
   "metadata": {},
   "outputs": [
    {
     "name": "stdout",
     "output_type": "stream",
     "text": [
      "         date  value                  series_title\n",
      "26 2023-01-01  4.204  Eggs (White, Grade A, Large)\n",
      "25 2023-02-01  4.163  Eggs (White, Grade A, Large)\n",
      "24 2023-03-01  4.098  Eggs (White, Grade A, Large)\n",
      "23 2023-04-01  4.042  Eggs (White, Grade A, Large)\n",
      "22 2023-05-01  4.042  Eggs (White, Grade A, Large)\n",
      "         date  value             series_title\n",
      "26 2023-01-01  3.452  Milk (Whole, Fortified)\n",
      "25 2023-02-01  3.514  Milk (Whole, Fortified)\n",
      "24 2023-03-01  3.551  Milk (Whole, Fortified)\n",
      "23 2023-04-01  3.735  Milk (Whole, Fortified)\n",
      "22 2023-05-01  3.685  Milk (Whole, Fortified)\n",
      "         date  value           series_title\n",
      "26 2023-01-01  4.823  Eggs (Grade A, Large)\n",
      "25 2023-02-01  4.211  Eggs (Grade A, Large)\n",
      "24 2023-03-01  3.446  Eggs (Grade A, Large)\n",
      "23 2023-04-01  3.270  Eggs (Grade A, Large)\n",
      "22 2023-05-01  2.666  Eggs (Grade A, Large)\n"
     ]
    }
   ],
   "source": [
    "# Define the base API URL\n",
    "base_url = \"https://api.bls.gov/publicAPI/v2/timeseries/data/\"\n",
    "\n",
    "# Series 1: Eggs (white, large)\n",
    "df_eggs_white = fetch_bls_series(base_url, \"APU0000709112\", \"Eggs (White, Grade A, Large)\")\n",
    "\n",
    "# Series 2: Milk (whole, fortified)\n",
    "df_milk = fetch_bls_series(base_url, \"APU000074714\", \"Milk (Whole, Fortified)\")\n",
    "\n",
    "# Series 3: Eggs (grade A, large)\n",
    "df_eggs_large = fetch_bls_series(base_url, \"APU0000708111\", \"Eggs (Grade A, Large)\")\n",
    "\n",
    "# Quick check on the outputs\n",
    "print(df_eggs_white.head())\n",
    "print(df_milk.head())\n",
    "print(df_eggs_large.head())"
   ]
  },
  {
   "cell_type": "markdown",
   "id": "f06e3c74-7847-47c0-b46d-44c43c5679cc",
   "metadata": {},
   "source": [
    "## 4. [10 pts] Merge the data sets together into a single pd.DataFrame and make a time series plot showing how the CPI for these three goods has changed over the last 24 months. Each good should be shown as a unique line with different coloring/patterns and a matching legend (I suggest using the matplotlib library to do this)."
   ]
  },
  {
   "cell_type": "code",
   "execution_count": 41,
   "id": "85eb7e47-a251-4eb3-ab7c-5e32b3155204",
   "metadata": {},
   "outputs": [],
   "source": [
    "# Combine all three into a single DataFrame\n",
    "merged_cpi = pd.concat([df_eggs_white, df_milk, df_eggs_large], ignore_index=True)\n",
    "\n",
    "# Filter to only include data from the last 24 months\n",
    "cutoff_date = pd.Timestamp.today() - pd.DateOffset(months=24)\n",
    "merged_recent = merged_cpi[merged_cpi['date'] >= cutoff_date]"
   ]
  },
  {
   "cell_type": "code",
   "execution_count": 42,
   "id": "61c456d6-86dd-4b7d-9adc-b1bfd4cd9b49",
   "metadata": {},
   "outputs": [
    {
     "data": {
      "image/png": "[encoded data removed]",
      "text/plain": [
       "<Figure size 1200x600 with 1 Axes>"
      ]
     },
     "metadata": {},
     "output_type": "display_data"
    }
   ],
   "source": [
    "# Set up the plot\n",
    "plt.figure(figsize=(12, 6))\n",
    "\n",
    "# Plot each series separately using groupby\n",
    "for title, group in merged_recent.groupby('series_title'):\n",
    "    plt.plot(group['date'], group['value'], label=title, linewidth=2)\n",
    "\n",
    "# Customize the plot\n",
    "plt.title(\"CPI for Selected Goods (Last 24 Months)\", fontsize=16)\n",
    "plt.xlabel(\"Date\", fontsize=12)\n",
    "plt.ylabel(\"Price (USD)\", fontsize=12)\n",
    "plt.legend(title=\"Item\")\n",
    "plt.grid(True)\n",
    "plt.tight_layout()\n",
    "\n",
    "# Show the plot\n",
    "plt.show()"
   ]
  },
  {
   "cell_type": "markdown",
   "id": "96fa151a-a3fe-4d6e-abe0-ec0bb5be9e08",
   "metadata": {},
   "source": [
    "## 5. [10 pts] In the lecture notes, refer to the section entitled \"No Python Package? Manipulate URL directly\". Can you update the code in the New York Times article search API URL so that you return article data for Hillary Clinton for the time range April 1, 2024 - April 4, 2024? How many TOTAL articles were returned by this API search?\n"
   ]
  },
  {
   "cell_type": "code",
   "execution_count": 43,
   "id": "1a9843ac-8908-4799-a273-f9226f43b606",
   "metadata": {},
   "outputs": [
    {
     "name": "stdout",
     "output_type": "stream",
     "text": [
      "dict_keys(['status', 'copyright', 'response'])\n",
      "Number of articles returned: 5\n",
      "Columns: ['abstract', 'byline', 'document_type', 'headline', '_id', 'keywords', 'multimedia', 'news_desk', 'print_page', 'print_section', 'pub_date', 'section_name', 'snippet', 'source', 'subsection_name', 'type_of_material', 'uri', 'web_url', 'word_count']\n"
     ]
    },
    {
     "data": {
      "text/html": [
       "<div>\n",
       "<style scoped>\n",
       "    .dataframe tbody tr th:only-of-type {\n",
       "        vertical-align: middle;\n",
       "    }\n",
       "\n",
       "    .dataframe tbody tr th {\n",
       "        vertical-align: top;\n",
       "    }\n",
       "\n",
       "    .dataframe thead th {\n",
       "        text-align: right;\n",
       "    }\n",
       "</style>\n",
       "<table border=\"1\" class=\"dataframe\">\n",
       "  <thead>\n",
       "    <tr style=\"text-align: right;\">\n",
       "      <th></th>\n",
       "      <th>abstract</th>\n",
       "      <th>byline</th>\n",
       "      <th>document_type</th>\n",
       "      <th>headline</th>\n",
       "      <th>_id</th>\n",
       "      <th>keywords</th>\n",
       "      <th>multimedia</th>\n",
       "      <th>news_desk</th>\n",
       "      <th>print_page</th>\n",
       "      <th>print_section</th>\n",
       "      <th>pub_date</th>\n",
       "      <th>section_name</th>\n",
       "      <th>snippet</th>\n",
       "      <th>source</th>\n",
       "      <th>subsection_name</th>\n",
       "      <th>type_of_material</th>\n",
       "      <th>uri</th>\n",
       "      <th>web_url</th>\n",
       "      <th>word_count</th>\n",
       "    </tr>\n",
       "  </thead>\n",
       "  <tbody>\n",
       "    <tr>\n",
       "      <th>0</th>\n",
       "      <td>Inside the notorious “catch and kill” campaign...</td>\n",
       "      <td>{'original': 'By Lachlan Cartwright'}</td>\n",
       "      <td>article</td>\n",
       "      <td>{'main': 'What I Saw Working at The National E...</td>\n",
       "      <td>nyt://article/3211e3f0-4388-5f19-884b-051e5821...</td>\n",
       "      <td>[{'name': 'Organization', 'value': 'National E...</td>\n",
       "      <td>{'caption': '', 'credit': 'Photo illustration ...</td>\n",
       "      <td>Magazine</td>\n",
       "      <td>26</td>\n",
       "      <td>MM</td>\n",
       "      <td>2024-04-03T09:04:03Z</td>\n",
       "      <td>Magazine</td>\n",
       "      <td>Inside the notorious “catch and kill” campaign...</td>\n",
       "      <td>The New York Times</td>\n",
       "      <td></td>\n",
       "      <td>News</td>\n",
       "      <td>nyt://article/3211e3f0-4388-5f19-884b-051e5821...</td>\n",
       "      <td>https://www.nytimes.com/2024/04/03/magazine/na...</td>\n",
       "      <td>6394</td>\n",
       "    </tr>\n",
       "    <tr>\n",
       "      <th>1</th>\n",
       "      <td>Oren Etzioni was once an optimist about artifi...</td>\n",
       "      <td>{'original': 'By Cade Metz and Tiffany Hsu'}</td>\n",
       "      <td>article</td>\n",
       "      <td>{'main': 'An A.I. Researcher Takes On Election...</td>\n",
       "      <td>nyt://article/e75ea126-164f-5942-a86a-4781dfdd...</td>\n",
       "      <td>[{'name': 'Subject', 'value': 'Artificial Inte...</td>\n",
       "      <td>{'caption': 'Oren Etzioni at The AI Institute....</td>\n",
       "      <td>Business</td>\n",
       "      <td>1</td>\n",
       "      <td>B</td>\n",
       "      <td>2024-04-02T16:00:12Z</td>\n",
       "      <td>Technology</td>\n",
       "      <td>Oren Etzioni was once an optimist about artifi...</td>\n",
       "      <td>The New York Times</td>\n",
       "      <td></td>\n",
       "      <td>News</td>\n",
       "      <td>nyt://article/e75ea126-164f-5942-a86a-4781dfdd...</td>\n",
       "      <td>https://www.nytimes.com/2024/04/02/technology/...</td>\n",
       "      <td>1089</td>\n",
       "    </tr>\n",
       "    <tr>\n",
       "      <th>2</th>\n",
       "      <td>Simon Rosenberg has spent the past two years t...</td>\n",
       "      <td>{'original': 'By Adam Nagourney'}</td>\n",
       "      <td>article</td>\n",
       "      <td>{'main': 'Many Democrats Are Worried Trump Wil...</td>\n",
       "      <td>nyt://article/58c63816-3116-5608-b18d-878e39eb...</td>\n",
       "      <td>[{'name': 'Person', 'value': 'Biden, Joseph R ...</td>\n",
       "      <td>{'caption': 'Simon Rosenberg, a Democratic str...</td>\n",
       "      <td>Politics</td>\n",
       "      <td>18</td>\n",
       "      <td>A</td>\n",
       "      <td>2024-04-03T18:26:38Z</td>\n",
       "      <td>U.S.</td>\n",
       "      <td>Simon Rosenberg has spent the past two years t...</td>\n",
       "      <td>The New York Times</td>\n",
       "      <td>Politics</td>\n",
       "      <td>News</td>\n",
       "      <td>nyt://article/58c63816-3116-5608-b18d-878e39eb...</td>\n",
       "      <td>https://www.nytimes.com/2024/04/03/us/politics...</td>\n",
       "      <td>1754</td>\n",
       "    </tr>\n",
       "    <tr>\n",
       "      <th>3</th>\n",
       "      <td>He oversaw design of new ballparks for the Bal...</td>\n",
       "      <td>{'original': 'By Richard Sandomir'}</td>\n",
       "      <td>article</td>\n",
       "      <td>{'main': 'Larry Lucchino, Top Executive at Thr...</td>\n",
       "      <td>nyt://article/47823689-65b3-5250-ba60-8c10cff9...</td>\n",
       "      <td>[{'name': 'Subject', 'value': 'Deaths (Obituar...</td>\n",
       "      <td>{'caption': 'Larry Lucchino in 2008 as preside...</td>\n",
       "      <td>Obits</td>\n",
       "      <td>11</td>\n",
       "      <td>B</td>\n",
       "      <td>2024-04-02T16:23:20Z</td>\n",
       "      <td>Sports</td>\n",
       "      <td>He oversaw design of new ballparks for the Bal...</td>\n",
       "      <td>The New York Times</td>\n",
       "      <td>Baseball</td>\n",
       "      <td>Obituary (Obit)</td>\n",
       "      <td>nyt://article/47823689-65b3-5250-ba60-8c10cff9...</td>\n",
       "      <td>https://www.nytimes.com/2024/04/02/sports/base...</td>\n",
       "      <td>1285</td>\n",
       "    </tr>\n",
       "    <tr>\n",
       "      <th>4</th>\n",
       "      <td>Long before the killings of seven workers in G...</td>\n",
       "      <td>{'original': 'By Kim Severson'}</td>\n",
       "      <td>article</td>\n",
       "      <td>{'main': 'How José Andrés and His Corps of Coo...</td>\n",
       "      <td>nyt://article/5b4d71e7-2855-534f-b725-7cfd9c88...</td>\n",
       "      <td>[{'name': 'Person', 'value': 'Andres, Jose (19...</td>\n",
       "      <td>{'caption': 'José Andrés, the Spanish chef who...</td>\n",
       "      <td>Dining</td>\n",
       "      <td>9</td>\n",
       "      <td>A</td>\n",
       "      <td>2024-04-02T22:31:38Z</td>\n",
       "      <td>Food</td>\n",
       "      <td>Long before the killings of seven workers in G...</td>\n",
       "      <td>The New York Times</td>\n",
       "      <td></td>\n",
       "      <td>News</td>\n",
       "      <td>nyt://article/5b4d71e7-2855-534f-b725-7cfd9c88...</td>\n",
       "      <td>https://www.nytimes.com/2024/04/02/dining/jose...</td>\n",
       "      <td>1456</td>\n",
       "    </tr>\n",
       "  </tbody>\n",
       "</table>\n",
       "</div>"
      ],
      "text/plain": [
       "                                            abstract  \\\n",
       "0  Inside the notorious “catch and kill” campaign...   \n",
       "1  Oren Etzioni was once an optimist about artifi...   \n",
       "2  Simon Rosenberg has spent the past two years t...   \n",
       "3  He oversaw design of new ballparks for the Bal...   \n",
       "4  Long before the killings of seven workers in G...   \n",
       "\n",
       "                                         byline document_type  \\\n",
       "0         {'original': 'By Lachlan Cartwright'}       article   \n",
       "1  {'original': 'By Cade Metz and Tiffany Hsu'}       article   \n",
       "2             {'original': 'By Adam Nagourney'}       article   \n",
       "3           {'original': 'By Richard Sandomir'}       article   \n",
       "4               {'original': 'By Kim Severson'}       article   \n",
       "\n",
       "                                            headline  \\\n",
       "0  {'main': 'What I Saw Working at The National E...   \n",
       "1  {'main': 'An A.I. Researcher Takes On Election...   \n",
       "2  {'main': 'Many Democrats Are Worried Trump Wil...   \n",
       "3  {'main': 'Larry Lucchino, Top Executive at Thr...   \n",
       "4  {'main': 'How José Andrés and His Corps of Coo...   \n",
       "\n",
       "                                                 _id  \\\n",
       "0  nyt://article/3211e3f0-4388-5f19-884b-051e5821...   \n",
       "1  nyt://article/e75ea126-164f-5942-a86a-4781dfdd...   \n",
       "2  nyt://article/58c63816-3116-5608-b18d-878e39eb...   \n",
       "3  nyt://article/47823689-65b3-5250-ba60-8c10cff9...   \n",
       "4  nyt://article/5b4d71e7-2855-534f-b725-7cfd9c88...   \n",
       "\n",
       "                                            keywords  \\\n",
       "0  [{'name': 'Organization', 'value': 'National E...   \n",
       "1  [{'name': 'Subject', 'value': 'Artificial Inte...   \n",
       "2  [{'name': 'Person', 'value': 'Biden, Joseph R ...   \n",
       "3  [{'name': 'Subject', 'value': 'Deaths (Obituar...   \n",
       "4  [{'name': 'Person', 'value': 'Andres, Jose (19...   \n",
       "\n",
       "                                          multimedia news_desk print_page  \\\n",
       "0  {'caption': '', 'credit': 'Photo illustration ...  Magazine         26   \n",
       "1  {'caption': 'Oren Etzioni at The AI Institute....  Business          1   \n",
       "2  {'caption': 'Simon Rosenberg, a Democratic str...  Politics         18   \n",
       "3  {'caption': 'Larry Lucchino in 2008 as preside...     Obits         11   \n",
       "4  {'caption': 'José Andrés, the Spanish chef who...    Dining          9   \n",
       "\n",
       "  print_section              pub_date section_name  \\\n",
       "0            MM  2024-04-03T09:04:03Z     Magazine   \n",
       "1             B  2024-04-02T16:00:12Z   Technology   \n",
       "2             A  2024-04-03T18:26:38Z         U.S.   \n",
       "3             B  2024-04-02T16:23:20Z       Sports   \n",
       "4             A  2024-04-02T22:31:38Z         Food   \n",
       "\n",
       "                                             snippet              source  \\\n",
       "0  Inside the notorious “catch and kill” campaign...  The New York Times   \n",
       "1  Oren Etzioni was once an optimist about artifi...  The New York Times   \n",
       "2  Simon Rosenberg has spent the past two years t...  The New York Times   \n",
       "3  He oversaw design of new ballparks for the Bal...  The New York Times   \n",
       "4  Long before the killings of seven workers in G...  The New York Times   \n",
       "\n",
       "  subsection_name type_of_material  \\\n",
       "0                             News   \n",
       "1                             News   \n",
       "2        Politics             News   \n",
       "3        Baseball  Obituary (Obit)   \n",
       "4                             News   \n",
       "\n",
       "                                                 uri  \\\n",
       "0  nyt://article/3211e3f0-4388-5f19-884b-051e5821...   \n",
       "1  nyt://article/e75ea126-164f-5942-a86a-4781dfdd...   \n",
       "2  nyt://article/58c63816-3116-5608-b18d-878e39eb...   \n",
       "3  nyt://article/47823689-65b3-5250-ba60-8c10cff9...   \n",
       "4  nyt://article/5b4d71e7-2855-534f-b725-7cfd9c88...   \n",
       "\n",
       "                                             web_url  word_count  \n",
       "0  https://www.nytimes.com/2024/04/03/magazine/na...        6394  \n",
       "1  https://www.nytimes.com/2024/04/02/technology/...        1089  \n",
       "2  https://www.nytimes.com/2024/04/03/us/politics...        1754  \n",
       "3  https://www.nytimes.com/2024/04/02/sports/base...        1285  \n",
       "4  https://www.nytimes.com/2024/04/02/dining/jose...        1456  "
      ]
     },
     "execution_count": 43,
     "metadata": {},
     "output_type": "execute_result"
    }
   ],
   "source": [
    "article_key = \"uLl2mFS2e5fDcH1bhg3xAzVibJ7wFmWG\"  \n",
    "term = \"Hillary+Clinton\"  # Search term, use + between words\n",
    "begin_date = \"20240401\"   # April 1, 2024\n",
    "end_date = \"20240404\"     # April 4, 2024\n",
    "\n",
    "# Step 2: Build the API URL\n",
    "finalurl = (\n",
    "    \"http://api.nytimes.com/svc/search/v2/articlesearch.json?\"\n",
    "    + \"q=\" + term\n",
    "    + \"&begin_date=\" + begin_date\n",
    "    + \"&end_date=\" + end_date\n",
    "    + \"&api-key=\" + article_key\n",
    ")\n",
    "\n",
    "# Step 3: Make the request\n",
    "r = requests.get(finalurl)\n",
    "r = r.json()\n",
    "\n",
    "# Step 4: Explore the returned JSON\n",
    "print(r.keys())  # Should see 'response' among the keys\n",
    "\n",
    "# Step 5: Load articles into a DataFrame\n",
    "data = pd.DataFrame(r['response']['docs'])\n",
    "\n",
    "# Step 6: Print how many articles were returned\n",
    "print(\"Number of articles returned:\", data.shape[0])\n",
    "\n",
    "# Step 7: Look at columns available\n",
    "print(\"Columns:\", data.columns.tolist())\n",
    "\n",
    "# Step 8: Show the data\n",
    "data.head()"
   ]
  },
  {
   "cell_type": "markdown",
   "id": "cd7764e9-e937-41a4-9b6c-787c60ead5af",
   "metadata": {},
   "source": [
    "5 articles were returned."
   ]
  },
  {
   "cell_type": "markdown",
   "id": "2e79f360-9f17-4e35-ade9-2f73d2d31ede",
   "metadata": {},
   "source": [
    "## 6. [15 pts] In this question, we will connect to the Spotify API. Spotify has a package called spotipy which makes this easy. Using their API documentation, your task is to figure out how to use the album function listed on this webpage to import Queen's Greatest Hits album. Once you have successfully used spotipy to pull in data for this album, write a for loop to display the following message, making sure you align the numbers as is done here:"
   ]
  },
  {
   "cell_type": "code",
   "execution_count": 44,
   "id": "e8bed7fd-24d7-4acd-96dc-98235370420a",
   "metadata": {},
   "outputs": [
    {
     "name": "stdout",
     "output_type": "stream",
     "text": [
      "Track  1  is 20th Century Fox Fanfare\n",
      "Track  2  is Somebody To Love\n",
      "Track  3  is Doing All Right - ...Revisited\n",
      "Track  4  is Keep Yourself Alive - Live At The Rainbow\n",
      "Track  5  is Killer Queen\n",
      "Track  6  is Fat Bottomed Girls - Live In Paris\n",
      "Track  7  is Bohemian Rhapsody\n",
      "Track  8  is Now I'm Here - Live At The Hammersmith Odeon\n",
      "Track  9  is Crazy Little Thing Called Love\n",
      "Track 10  is Love Of My Life - Live At Rock In Rio\n",
      "Track 11  is We Will Rock You - Movie Mix\n",
      "Track 12  is Another One Bites The Dust\n",
      "Track 13  is I Want To Break Free\n",
      "Track 14  is Under Pressure\n",
      "Track 15  is Who Wants To Live Forever\n",
      "Track 16  is Bohemian Rhapsody - Live Aid\n",
      "Track 17  is Radio Ga Ga - Live Aid\n",
      "Track 18  is Ay-Oh - Live Aid\n",
      "Track 19  is Hammer To Fall - Live Aid\n",
      "Track 20  is We Are The Champions - Live Aid\n",
      "Track 21  is Don't Stop Me Now - ...Revisited\n",
      "Track 22  is The Show Must Go On\n"
     ]
    }
   ],
   "source": [
    "import spotipy\n",
    "from spotipy.oauth2 import SpotifyClientCredentials\n",
    "\n",
    "# Step 1: Authenticate\n",
    "cid = '1d79c7320efe48be8555674d48a7fd2d'\n",
    "secret = '34a7cabc5f624302b9bb25c29d1c8057'\n",
    "client_credentials_manager = SpotifyClientCredentials(client_id=cid, client_secret=secret)\n",
    "sp = spotipy.Spotify(client_credentials_manager=client_credentials_manager)\n",
    "\n",
    "# Step 2: Album ID for Queen's Greatest Hits\n",
    "album_id = '6i6folBtxKV28WX3msQ4FE'\n",
    "\n",
    "# Step 3: Fetch the album data\n",
    "album_data = sp.album(album_id)\n",
    "tracks = album_data['tracks']['items']\n",
    "\n",
    "# Step 4: Print each track nicely\n",
    "for idx, track in enumerate(tracks, start=1):\n",
    "    print(f\"Track {idx:2}  is {track['name']}\")"
   ]
  },
  {
   "cell_type": "markdown",
   "id": "3e6b4f93-bf6a-4445-b07d-1eb28d25ede0",
   "metadata": {},
   "source": [
    "## 7. [15 pts] Find an API of interest to you. Sign up for an API key if necessary. Describe the API concisely and make a single call on the API and return an example of the returned data here."
   ]
  },
  {
   "cell_type": "code",
   "execution_count": 47,
   "id": "b8da448d-5c95-4809-8a98-bd852f212c53",
   "metadata": {},
   "outputs": [
    {
     "name": "stdout",
     "output_type": "stream",
     "text": [
      "{'coord': {'lon': -74.006, 'lat': 40.7143}, 'weather': [{'id': 804, 'main': 'Clouds', 'description': 'overcast clouds', 'icon': '04d'}], 'base': 'stations', 'main': {'temp': 21.15, 'feels_like': 21.44, 'temp_min': 18.3, 'temp_max': 23, 'pressure': 1008, 'humidity': 81, 'sea_level': 1008, 'grnd_level': 1007}, 'visibility': 10000, 'wind': {'speed': 9.26, 'deg': 250, 'gust': 16.46}, 'clouds': {'all': 100}, 'dt': 1745691108, 'sys': {'type': 2, 'id': 2008776, 'country': 'US', 'sunrise': 1745661648, 'sunset': 1745711187}, 'timezone': -14400, 'id': 5128581, 'name': 'New York', 'cod': 200}\n"
     ]
    }
   ],
   "source": [
    "import requests\n",
    "\n",
    "api_key = '7fa43971ab2b69a6bb9edfdd0ffe57b2'\n",
    "city = 'New York'\n",
    "base_url = 'https://api.openweathermap.org/data/2.5/weather'\n",
    "\n",
    "# Build URL\n",
    "params = {\n",
    "    'q': city,\n",
    "    'appid': api_key,\n",
    "    'units': 'metric'  # Get temperature in Celsius\n",
    "}\n",
    "\n",
    "# Make API request\n",
    "response = requests.get(base_url, params=params)\n",
    "weather_data = response.json()\n",
    "\n",
    "# Print example output\n",
    "print(weather_data)\n"
   ]
  },
  {
   "cell_type": "markdown",
   "id": "4bff8487-158e-4fc4-9cf3-027b1023fccd",
   "metadata": {},
   "source": [
    "I chose the OpenWeatherMap API, which provides real-time and forecast weather data globally. I made a simple call to get the current weather for New York City. The returned data included temperature, weather description, wind speed, and humidity."
   ]
  },
  {
   "cell_type": "markdown",
   "id": "97a6e7f2-ce28-4e63-bf99-25dbcafa7ba1",
   "metadata": {},
   "source": [
    "## 8. [20 pts] Import the data found in the HW5 folder. It is a single column of data that has 500 rows. This data represents a format of data that you will often encounter in research projects which use \"thematic coding\" for text response data. As described here: \"Thematic coding is a form of qualitative analysis that involves recording or identifying passages of text or images that are linked by a common theme or idea allowing you to index the text into categories and therefore establish a 'framework of thematic ideas about it' (Gibbs 2007).\"\n",
    "\n",
    "It is ok if you are not familiar with thematic coding for qualitative/text data. Your task is to import the data and write a regex that is capable of finding the thematic code \"1\" whenever it appears in the string. This is more difficult than it sounds, because your regex should count all the \"1\"s that appear, but not \"10\", \"11\", \"12\", \"21\" etc. Also note, that sometimes \"1\" appears in the 2nd, 3rd... etc. position (e.g., \"2, 6, 7, 1, 10\"). Use this regex to add a new column to your dataset called \"find_1\". Display a frequency table showing the number of times your regex flagged \"1\" as appearing."
   ]
  },
  {
   "cell_type": "code",
   "execution_count": 46,
   "id": "0d8109d0-2724-46d0-9e36-eb5a01fa30c4",
   "metadata": {},
   "outputs": [
    {
     "name": "stdout",
     "output_type": "stream",
     "text": [
      "has_1\n",
      "No 1 Found    437\n",
      "1 Found        63\n",
      "Name: count, dtype: int64\n"
     ]
    }
   ],
   "source": [
    "import pandas as pd\n",
    "import re\n",
    "\n",
    "# Step 1: Load the dataset\n",
    "data = pd.read_csv(r\"C:\\Users\\lulu\\Documents\\GitHub\\QMSS-GR5072-Spring2025_Class\\HW\\HW05\\data\\Thematic codes data.csv\")\n",
    "\n",
    "# Step 2: Define a regex pattern that matches only the standalone number \"1\"\n",
    "regex_pattern = r'(?<!\\d)1(?!\\d)'\n",
    "\n",
    "# Step 3: Search each text line for matches of \"1\" (not part of 10, 11, etc.)\n",
    "data['find_1'] = data['Thematic codes'].apply(lambda text: len(re.findall(regex_pattern, str(text))))\n",
    "\n",
    "# Step 4: Create a binary column: 1 if \"1\" was found, 0 if not\n",
    "data['has_1'] = data['find_1'].apply(lambda count: 1 if count > 0 else 0)\n",
    "\n",
    "# Step 5: Generate a frequency table\n",
    "freq_table = data['has_1'].value_counts().rename(index={0: 'No 1 Found', 1: '1 Found'})\n",
    "\n",
    "# Step 6: Display the result\n",
    "print(freq_table)\n"
   ]
  }
 ],
 "metadata": {
  "kernelspec": {
   "display_name": "Python 3 (ipykernel)",
   "language": "python",
   "name": "python3"
  },
  "language_info": {
   "codemirror_mode": {
    "name": "ipython",
    "version": 3
   },
   "file_extension": ".py",
   "mimetype": "text/x-python",
   "name": "python",
   "nbconvert_exporter": "python",
   "pygments_lexer": "ipython3",
   "version": "3.12.5"
  }
 },
 "nbformat": 4,
 "nbformat_minor": 5
}
