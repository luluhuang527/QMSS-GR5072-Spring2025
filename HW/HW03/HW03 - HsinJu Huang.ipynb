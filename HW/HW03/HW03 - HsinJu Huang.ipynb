{
 "cells": [
  {
   "cell_type": "markdown",
   "id": "f7720b2d-914c-4fbf-99bc-82ac3f678491",
   "metadata": {},
   "source": [
    "# Modern Data Structures Homework 3"
   ]
  },
  {
   "cell_type": "markdown",
   "id": "7c70eef4-0d39-411a-9e9b-5cffd2a05324",
   "metadata": {},
   "source": [
    "Hsin-Ju (Lulu) Huang  \n",
    "hh3105"
   ]
  },
  {
   "cell_type": "code",
   "execution_count": 33,
   "id": "e7a1c3bd-0c39-4791-8f3a-fcba9315b092",
   "metadata": {},
   "outputs": [],
   "source": [
    "import pandas as pd\n",
    "import numpy as np\n",
    "import scipy.stats as stats\n",
    "\n",
    "\n",
    "flights = pd.read_csv(r\"C:\\Users\\lulu\\Documents\\GitHub\\QMSS-GR5072-Spring2025_Class\\HW\\HW03\\nycflights.csv\")"
   ]
  },
  {
   "cell_type": "markdown",
   "id": "6707147e-4b36-43f1-a9da-e36b919fff72",
   "metadata": {},
   "source": [
    "## Question 1\n",
    "### [20 pts] Write a function that takes a single numerical variable and returns three values, the minimum number, the median, and the maximum number of the vector. Test your function using the month column of the flights data set."
   ]
  },
  {
   "cell_type": "code",
   "execution_count": 34,
   "id": "f12c7ccd-543d-49ed-806d-a26bfe704c72",
   "metadata": {},
   "outputs": [
    {
     "name": "stdout",
     "output_type": "stream",
     "text": [
      "(1, 7.0, 12)\n"
     ]
    }
   ],
   "source": [
    "# Define the function\n",
    "def min_median_max(variable):\n",
    "    return min(variable), float(np.median(variable)), max(variable)\n",
    "\n",
    "# Apply function to the 'month' column\n",
    "result = min_median_max(flights['month'])\n",
    "print(result)  "
   ]
  },
  {
   "cell_type": "markdown",
   "id": "183dd125-5ea7-42d6-984d-52cca5be53da",
   "metadata": {},
   "source": [
    "## Question 2\n",
    "### [5 pts] Explain your reasoning for choosing your function's name in the previous question."
   ]
  },
  {
   "cell_type": "markdown",
   "id": "ea4b8260-4401-4009-92b2-8dc7f62af4f4",
   "metadata": {},
   "source": [
    "I chose min_median_max as the function name to indicate that it returns the minimum, median, and maximum values of the input vector."
   ]
  },
  {
   "cell_type": "markdown",
   "id": "d61ad1ad-d296-4cdb-9228-e33c50f4d7e6",
   "metadata": {},
   "source": [
    "## Question 3\n",
    "### [20 pts] Write a function that categorizes a numerical variable in the flights data into four categories."
   ]
  },
  {
   "cell_type": "code",
   "execution_count": 35,
   "id": "832ddac0-d235-4fdb-bf92-1125319107a8",
   "metadata": {},
   "outputs": [
    {
     "name": "stdout",
     "output_type": "stream",
     "text": [
      "dep_time_category\n",
      "Morning      129539\n",
      "Afternoon     98617\n",
      "Evening       79793\n",
      "Night         20572\n",
      "Unknown        8255\n",
      "Name: count, dtype: int64\n"
     ]
    }
   ],
   "source": [
    "# Define the function\n",
    "def categorize_time_of_day(data, column):\n",
    "    def classify_time(value):\n",
    "        if pd.isna(value):  # Handle missing values\n",
    "            return \"Unknown\"\n",
    "        elif 500 <= value < 1200:\n",
    "            return \"Morning\"\n",
    "        elif 1200 <= value < 1700:\n",
    "            return \"Afternoon\"\n",
    "        elif 1700 <= value < 2100:\n",
    "            return \"Evening\"\n",
    "        else:\n",
    "            return \"Night\"\n",
    "\n",
    "    data[f\"{column}_category\"] = data[column].apply(classify_time)\n",
    "    return data\n",
    "\n",
    "# Apply function to the dep_time column\n",
    "flights = categorize_time_of_day(flights, \"dep_time\")\n",
    "\n",
    "# Print frequency table\n",
    "print(flights[\"dep_time_category\"].value_counts())"
   ]
  },
  {
   "cell_type": "markdown",
   "id": "e3134ba8-2637-42fe-b2ec-fde571323bd7",
   "metadata": {},
   "source": [
    "## Question 4\n",
    "### [5 pts] Explain your reasoning for choosing your function's name in the previous question."
   ]
  },
  {
   "cell_type": "markdown",
   "id": "9a6758f0-9d18-4df1-b195-e008f894931c",
   "metadata": {},
   "source": [
    "I chose the name categorize_time_of_day because the function is designed to categorize a given time into one of four parts of the day. The name clearly reflects its purpose of organizing times into distinct segments of the day."
   ]
  },
  {
   "cell_type": "markdown",
   "id": "f06e3c74-7847-47c0-b46d-44c43c5679cc",
   "metadata": {},
   "source": [
    "## Question 5\n",
    "### [20 pts] Write a function that calculates the median of all numeric variables in the flights dataset."
   ]
  },
  {
   "cell_type": "code",
   "execution_count": 36,
   "id": "85eb7e47-a251-4eb3-ab7c-5e32b3155204",
   "metadata": {},
   "outputs": [
    {
     "name": "stdout",
     "output_type": "stream",
     "text": [
      "Unnamed: 0        168388.5\n",
      "year                2013.0\n",
      "month                  7.0\n",
      "day                   16.0\n",
      "dep_time            1401.0\n",
      "sched_dep_time      1359.0\n",
      "dep_delay             -2.0\n",
      "arr_time            1535.0\n",
      "sched_arr_time      1556.0\n",
      "arr_delay             -5.0\n",
      "flight              1496.0\n",
      "air_time             129.0\n",
      "distance             872.0\n",
      "hour                  13.0\n",
      "minute                29.0\n",
      "dtype: float64\n"
     ]
    }
   ],
   "source": [
    "def median_num_columns(data):\n",
    "    # Select only numeric columns\n",
    "    numeric_data = data.select_dtypes(include='number')\n",
    "    \n",
    "    # Calculate the median for each numeric column\n",
    "    medians = numeric_data.median()\n",
    "    \n",
    "    return medians\n",
    "\n",
    "# Testing the function on the flights dataset\n",
    "medians = median_num_columns(flights)\n",
    "print(medians)"
   ]
  },
  {
   "cell_type": "markdown",
   "id": "96fa151a-a3fe-4d6e-abe0-ec0bb5be9e08",
   "metadata": {},
   "source": [
    "## Question 6\n",
    "### [5 pts] Explain your reasoning for choosing your function's name in the previous question."
   ]
  },
  {
   "cell_type": "markdown",
   "id": "5a1de9cb-4ec7-41e1-b0ee-078fefd93bb6",
   "metadata": {},
   "source": [
    "I chose the function name 'median_num_columns' because the function calculates the medians of all the numeric columns in the dataset."
   ]
  },
  {
   "cell_type": "markdown",
   "id": "2e79f360-9f17-4e35-ade9-2f73d2d31ede",
   "metadata": {},
   "source": [
    "## Question 7\n",
    "### [20 pts] Modify the function t_test() we wrote in class together this week so that this function can handle violations to the homogeneity of variance (HOV) assumption."
   ]
  },
  {
   "cell_type": "code",
   "execution_count": 37,
   "id": "e8bed7fd-24d7-4acd-96dc-98235370420a",
   "metadata": {},
   "outputs": [],
   "source": [
    "def t_test(num_var, bin_var):  \n",
    "    \n",
    "    # Calculate the two groups based on the binary variable\n",
    "    group1 = num_var[bin_var == 0]\n",
    "    group2 = num_var[bin_var == 1]\n",
    "    \n",
    "    # Calculate the sample sizes and sample variances of the two groups\n",
    "    n1 = group1.shape[0]\n",
    "    n2 = group2.shape[0]\n",
    "    s2_1 = group1.var()\n",
    "    s2_2 = group2.var()\n",
    "    \n",
    "    # Calculate the sample means\n",
    "    mean1 = group1.mean()\n",
    "    mean2 = group2.mean()\n",
    "    \n",
    "    # Calculate the mean difference between the two groups\n",
    "    mean_diff = mean2 - mean1\n",
    "    \n",
    "    # Calculate the ratio of variances\n",
    "    var_ratio = s2_1 / s2_2 if s2_2 != 0 else np.inf\n",
    "    \n",
    "    # Check if the HOV assumption is violated\n",
    "    if 0.25 <= var_ratio <= 4.00:\n",
    "        # Homogeneity of variance assumption is not violated, use standard t-test\n",
    "        \n",
    "        # Calculate the degrees of freedom (DF)\n",
    "        DF = n1 + n2 - 2\n",
    "        \n",
    "        # Calculate the pooled standard deviation (sp)\n",
    "        sp = np.sqrt(((n1 - 1) * s2_1 + (n2 - 1) * s2_2) / DF)\n",
    "        \n",
    "        # Calculate the standard error of the mean difference\n",
    "        SE_mean_diff = sp * np.sqrt(1/n1 + 1/n2)\n",
    "        \n",
    "        # Calculate the t-statistic\n",
    "        t_statistic = mean_diff / SE_mean_diff\n",
    "        \n",
    "        # Calculate the p-value\n",
    "        p_value = 2 * (1 - stats.t.cdf(np.abs(t_statistic), DF))\n",
    "        \n",
    "        # Store the results in a DataFrame\n",
    "        results = pd.DataFrame({\n",
    "            \"Continuous Variable\": [num_var.name],\n",
    "            \"Binary Variable\": [bin_var.name],\n",
    "            \"Total Sample Size\": [n1 + n2],\n",
    "            \"Mean Difference\": [round(mean_diff, 2)], \n",
    "            \"SE of Mean Difference\": [round(SE_mean_diff, 2)],\n",
    "            \"DF\": [DF],\n",
    "            \"t-statistic\": [round(t_statistic, 3)],\n",
    "            \"P-value\": [(\"%.3f\" % p_value).lstrip('0')],\n",
    "            \"Test\": \"Independent samples t-test\"\n",
    "        })\n",
    "        \n",
    "        # Print the message for standard t-test\n",
    "        print(\"The homogeneity of variance assumption was not violated, so an independent samples t-test was conducted.\")\n",
    "    \n",
    "    else:\n",
    "        # HOV assumption is violated, use Welch's t-test\n",
    "        \n",
    "        # Calculate the degrees of freedom (Welch-Satterthwaite equation)\n",
    "        numerator = (s2_1 / n1 + s2_2 / n2) ** 2\n",
    "        denominator = ((s2_1 / n1) ** 2) / (n1 - 1) + ((s2_2 / n2) ** 2) / (n2 - 1)\n",
    "        DF_welch = numerator / denominator\n",
    "        \n",
    "        # Calculate Welch's t-statistic\n",
    "        t_statistic_welch = mean_diff / np.sqrt(s2_1 / n1 + s2_2 / n2)\n",
    "        \n",
    "        # Calculate the p-value for Welch's t-test\n",
    "        p_value_welch = 2 * (1 - stats.t.cdf(np.abs(t_statistic_welch), DF_welch))\n",
    "        \n",
    "        # Store the results in a DataFrame\n",
    "        results = pd.DataFrame({\n",
    "            \"Continuous Variable\": [num_var.name],\n",
    "            \"Binary Variable\": [bin_var.name],\n",
    "            \"Total Sample Size\": [n1 + n2],\n",
    "            \"Mean Difference\": [round(mean_diff, 2)], \n",
    "            \"SE of Mean Difference\": [round(np.sqrt(s2_1 / n1 + s2_2 / n2), 2)],\n",
    "            \"DF\": [round(DF_welch, 2)],\n",
    "            \"t-statistic\": [round(t_statistic_welch, 3)],\n",
    "            \"P-value\": [(\"%.3f\" % p_value_welch).lstrip('0')],\n",
    "            \"Test\": \"Welch's t-test\"\n",
    "        })\n",
    "        \n",
    "        # Print the message for Welch's t-test\n",
    "        print(\"The homogeneity of variance assumption was violated, so Welch's t-test was conducted.\")\n",
    "    \n",
    "    return results"
   ]
  },
  {
   "cell_type": "markdown",
   "id": "3e6b4f93-bf6a-4445-b07d-1eb28d25ede0",
   "metadata": {},
   "source": [
    "## Question 8\n",
    "### [5 pts] Import the GED data set we used for the class activity. Call the t_test() function and test it out on the GED data set we used in class. Let the numeric variable be 'income_log' and let the binary variable be 'ged'."
   ]
  },
  {
   "cell_type": "code",
   "execution_count": 39,
   "id": "b8da448d-5c95-4809-8a98-bd852f212c53",
   "metadata": {},
   "outputs": [
    {
     "name": "stdout",
     "output_type": "stream",
     "text": [
      "The homogeneity of variance assumption was not violated, so an independent samples t-test was conducted.\n",
      "  Continuous Variable Binary Variable  Total Sample Size  Mean Difference  \\\n",
      "0          income_log             ged               5976            -0.48   \n",
      "\n",
      "   SE of Mean Difference    DF  t-statistic P-value  \\\n",
      "0                   0.06  5974       -7.458    .000   \n",
      "\n",
      "                         Test  \n",
      "0  Independent samples t-test  \n"
     ]
    }
   ],
   "source": [
    "# Import the GED dataset (assuming the file is in CSV format)\n",
    "ged_data = pd.read_csv(r\"C:\\Users\\lulu\\Documents\\GitHub\\QMSS-GR5072-Spring2025_Class\\HW\\HW03\\ged_data.csv\")  # Replace with actual path\n",
    "\n",
    "# Call the t_test function\n",
    "results = t_test(ged_data['income_log'], ged_data['ged'])\n",
    "\n",
    "# Print the results\n",
    "print(results)"
   ]
  }
 ],
 "metadata": {
  "kernelspec": {
   "display_name": "Python 3 (ipykernel)",
   "language": "python",
   "name": "python3"
  },
  "language_info": {
   "codemirror_mode": {
    "name": "ipython",
    "version": 3
   },
   "file_extension": ".py",
   "mimetype": "text/x-python",
   "name": "python",
   "nbconvert_exporter": "python",
   "pygments_lexer": "ipython3",
   "version": "3.12.5"
  }
 },
 "nbformat": 4,
 "nbformat_minor": 5
}
