{
 "cells": [
  {
   "cell_type": "code",
   "execution_count": 1,
   "id": "8679b515-3acd-4a3c-aa2a-a2c67a3a2a82",
   "metadata": {},
   "outputs": [
    {
     "ename": "FileNotFoundError",
     "evalue": "[Errno 2] No such file or directory: 'C:\\\\Users\\\\jayxp\\\\Downloads\\\\nycflights.csv'",
     "output_type": "error",
     "traceback": [
      "\u001b[1;31m---------------------------------------------------------------------------\u001b[0m",
      "\u001b[1;31mFileNotFoundError\u001b[0m                         Traceback (most recent call last)",
      "Cell \u001b[1;32mIn[1], line 6\u001b[0m\n\u001b[0;32m      2\u001b[0m \u001b[38;5;28;01mimport\u001b[39;00m \u001b[38;5;21;01mnumpy\u001b[39;00m \u001b[38;5;28;01mas\u001b[39;00m \u001b[38;5;21;01mnp\u001b[39;00m\n\u001b[0;32m      3\u001b[0m \u001b[38;5;28;01mimport\u001b[39;00m \u001b[38;5;21;01mscipy\u001b[39;00m\u001b[38;5;21;01m.\u001b[39;00m\u001b[38;5;21;01mstats\u001b[39;00m \u001b[38;5;28;01mas\u001b[39;00m \u001b[38;5;21;01mstats\u001b[39;00m\n\u001b[1;32m----> 6\u001b[0m flights \u001b[38;5;241m=\u001b[39m \u001b[43mpd\u001b[49m\u001b[38;5;241;43m.\u001b[39;49m\u001b[43mread_csv\u001b[49m\u001b[43m(\u001b[49m\u001b[38;5;124;43mr\u001b[39;49m\u001b[38;5;124;43m\"\u001b[39;49m\u001b[38;5;124;43mC:\u001b[39;49m\u001b[38;5;124;43m\\\u001b[39;49m\u001b[38;5;124;43mUsers\u001b[39;49m\u001b[38;5;124;43m\\\u001b[39;49m\u001b[38;5;124;43mjayxp\u001b[39;49m\u001b[38;5;124;43m\\\u001b[39;49m\u001b[38;5;124;43mDownloads\u001b[39;49m\u001b[38;5;124;43m\\\u001b[39;49m\u001b[38;5;124;43mnycflights.csv\u001b[39;49m\u001b[38;5;124;43m\"\u001b[39;49m\u001b[43m)\u001b[49m\n",
      "File \u001b[1;32m~\\AppData\\Local\\Programs\\Python\\Python312\\Lib\\site-packages\\pandas\\io\\parsers\\readers.py:1026\u001b[0m, in \u001b[0;36mread_csv\u001b[1;34m(filepath_or_buffer, sep, delimiter, header, names, index_col, usecols, dtype, engine, converters, true_values, false_values, skipinitialspace, skiprows, skipfooter, nrows, na_values, keep_default_na, na_filter, verbose, skip_blank_lines, parse_dates, infer_datetime_format, keep_date_col, date_parser, date_format, dayfirst, cache_dates, iterator, chunksize, compression, thousands, decimal, lineterminator, quotechar, quoting, doublequote, escapechar, comment, encoding, encoding_errors, dialect, on_bad_lines, delim_whitespace, low_memory, memory_map, float_precision, storage_options, dtype_backend)\u001b[0m\n\u001b[0;32m   1013\u001b[0m kwds_defaults \u001b[38;5;241m=\u001b[39m _refine_defaults_read(\n\u001b[0;32m   1014\u001b[0m     dialect,\n\u001b[0;32m   1015\u001b[0m     delimiter,\n\u001b[1;32m   (...)\u001b[0m\n\u001b[0;32m   1022\u001b[0m     dtype_backend\u001b[38;5;241m=\u001b[39mdtype_backend,\n\u001b[0;32m   1023\u001b[0m )\n\u001b[0;32m   1024\u001b[0m kwds\u001b[38;5;241m.\u001b[39mupdate(kwds_defaults)\n\u001b[1;32m-> 1026\u001b[0m \u001b[38;5;28;01mreturn\u001b[39;00m \u001b[43m_read\u001b[49m\u001b[43m(\u001b[49m\u001b[43mfilepath_or_buffer\u001b[49m\u001b[43m,\u001b[49m\u001b[43m \u001b[49m\u001b[43mkwds\u001b[49m\u001b[43m)\u001b[49m\n",
      "File \u001b[1;32m~\\AppData\\Local\\Programs\\Python\\Python312\\Lib\\site-packages\\pandas\\io\\parsers\\readers.py:620\u001b[0m, in \u001b[0;36m_read\u001b[1;34m(filepath_or_buffer, kwds)\u001b[0m\n\u001b[0;32m    617\u001b[0m _validate_names(kwds\u001b[38;5;241m.\u001b[39mget(\u001b[38;5;124m\"\u001b[39m\u001b[38;5;124mnames\u001b[39m\u001b[38;5;124m\"\u001b[39m, \u001b[38;5;28;01mNone\u001b[39;00m))\n\u001b[0;32m    619\u001b[0m \u001b[38;5;66;03m# Create the parser.\u001b[39;00m\n\u001b[1;32m--> 620\u001b[0m parser \u001b[38;5;241m=\u001b[39m \u001b[43mTextFileReader\u001b[49m\u001b[43m(\u001b[49m\u001b[43mfilepath_or_buffer\u001b[49m\u001b[43m,\u001b[49m\u001b[43m \u001b[49m\u001b[38;5;241;43m*\u001b[39;49m\u001b[38;5;241;43m*\u001b[39;49m\u001b[43mkwds\u001b[49m\u001b[43m)\u001b[49m\n\u001b[0;32m    622\u001b[0m \u001b[38;5;28;01mif\u001b[39;00m chunksize \u001b[38;5;129;01mor\u001b[39;00m iterator:\n\u001b[0;32m    623\u001b[0m     \u001b[38;5;28;01mreturn\u001b[39;00m parser\n",
      "File \u001b[1;32m~\\AppData\\Local\\Programs\\Python\\Python312\\Lib\\site-packages\\pandas\\io\\parsers\\readers.py:1620\u001b[0m, in \u001b[0;36mTextFileReader.__init__\u001b[1;34m(self, f, engine, **kwds)\u001b[0m\n\u001b[0;32m   1617\u001b[0m     \u001b[38;5;28mself\u001b[39m\u001b[38;5;241m.\u001b[39moptions[\u001b[38;5;124m\"\u001b[39m\u001b[38;5;124mhas_index_names\u001b[39m\u001b[38;5;124m\"\u001b[39m] \u001b[38;5;241m=\u001b[39m kwds[\u001b[38;5;124m\"\u001b[39m\u001b[38;5;124mhas_index_names\u001b[39m\u001b[38;5;124m\"\u001b[39m]\n\u001b[0;32m   1619\u001b[0m \u001b[38;5;28mself\u001b[39m\u001b[38;5;241m.\u001b[39mhandles: IOHandles \u001b[38;5;241m|\u001b[39m \u001b[38;5;28;01mNone\u001b[39;00m \u001b[38;5;241m=\u001b[39m \u001b[38;5;28;01mNone\u001b[39;00m\n\u001b[1;32m-> 1620\u001b[0m \u001b[38;5;28mself\u001b[39m\u001b[38;5;241m.\u001b[39m_engine \u001b[38;5;241m=\u001b[39m \u001b[38;5;28;43mself\u001b[39;49m\u001b[38;5;241;43m.\u001b[39;49m\u001b[43m_make_engine\u001b[49m\u001b[43m(\u001b[49m\u001b[43mf\u001b[49m\u001b[43m,\u001b[49m\u001b[43m \u001b[49m\u001b[38;5;28;43mself\u001b[39;49m\u001b[38;5;241;43m.\u001b[39;49m\u001b[43mengine\u001b[49m\u001b[43m)\u001b[49m\n",
      "File \u001b[1;32m~\\AppData\\Local\\Programs\\Python\\Python312\\Lib\\site-packages\\pandas\\io\\parsers\\readers.py:1880\u001b[0m, in \u001b[0;36mTextFileReader._make_engine\u001b[1;34m(self, f, engine)\u001b[0m\n\u001b[0;32m   1878\u001b[0m     \u001b[38;5;28;01mif\u001b[39;00m \u001b[38;5;124m\"\u001b[39m\u001b[38;5;124mb\u001b[39m\u001b[38;5;124m\"\u001b[39m \u001b[38;5;129;01mnot\u001b[39;00m \u001b[38;5;129;01min\u001b[39;00m mode:\n\u001b[0;32m   1879\u001b[0m         mode \u001b[38;5;241m+\u001b[39m\u001b[38;5;241m=\u001b[39m \u001b[38;5;124m\"\u001b[39m\u001b[38;5;124mb\u001b[39m\u001b[38;5;124m\"\u001b[39m\n\u001b[1;32m-> 1880\u001b[0m \u001b[38;5;28mself\u001b[39m\u001b[38;5;241m.\u001b[39mhandles \u001b[38;5;241m=\u001b[39m \u001b[43mget_handle\u001b[49m\u001b[43m(\u001b[49m\n\u001b[0;32m   1881\u001b[0m \u001b[43m    \u001b[49m\u001b[43mf\u001b[49m\u001b[43m,\u001b[49m\n\u001b[0;32m   1882\u001b[0m \u001b[43m    \u001b[49m\u001b[43mmode\u001b[49m\u001b[43m,\u001b[49m\n\u001b[0;32m   1883\u001b[0m \u001b[43m    \u001b[49m\u001b[43mencoding\u001b[49m\u001b[38;5;241;43m=\u001b[39;49m\u001b[38;5;28;43mself\u001b[39;49m\u001b[38;5;241;43m.\u001b[39;49m\u001b[43moptions\u001b[49m\u001b[38;5;241;43m.\u001b[39;49m\u001b[43mget\u001b[49m\u001b[43m(\u001b[49m\u001b[38;5;124;43m\"\u001b[39;49m\u001b[38;5;124;43mencoding\u001b[39;49m\u001b[38;5;124;43m\"\u001b[39;49m\u001b[43m,\u001b[49m\u001b[43m \u001b[49m\u001b[38;5;28;43;01mNone\u001b[39;49;00m\u001b[43m)\u001b[49m\u001b[43m,\u001b[49m\n\u001b[0;32m   1884\u001b[0m \u001b[43m    \u001b[49m\u001b[43mcompression\u001b[49m\u001b[38;5;241;43m=\u001b[39;49m\u001b[38;5;28;43mself\u001b[39;49m\u001b[38;5;241;43m.\u001b[39;49m\u001b[43moptions\u001b[49m\u001b[38;5;241;43m.\u001b[39;49m\u001b[43mget\u001b[49m\u001b[43m(\u001b[49m\u001b[38;5;124;43m\"\u001b[39;49m\u001b[38;5;124;43mcompression\u001b[39;49m\u001b[38;5;124;43m\"\u001b[39;49m\u001b[43m,\u001b[49m\u001b[43m \u001b[49m\u001b[38;5;28;43;01mNone\u001b[39;49;00m\u001b[43m)\u001b[49m\u001b[43m,\u001b[49m\n\u001b[0;32m   1885\u001b[0m \u001b[43m    \u001b[49m\u001b[43mmemory_map\u001b[49m\u001b[38;5;241;43m=\u001b[39;49m\u001b[38;5;28;43mself\u001b[39;49m\u001b[38;5;241;43m.\u001b[39;49m\u001b[43moptions\u001b[49m\u001b[38;5;241;43m.\u001b[39;49m\u001b[43mget\u001b[49m\u001b[43m(\u001b[49m\u001b[38;5;124;43m\"\u001b[39;49m\u001b[38;5;124;43mmemory_map\u001b[39;49m\u001b[38;5;124;43m\"\u001b[39;49m\u001b[43m,\u001b[49m\u001b[43m \u001b[49m\u001b[38;5;28;43;01mFalse\u001b[39;49;00m\u001b[43m)\u001b[49m\u001b[43m,\u001b[49m\n\u001b[0;32m   1886\u001b[0m \u001b[43m    \u001b[49m\u001b[43mis_text\u001b[49m\u001b[38;5;241;43m=\u001b[39;49m\u001b[43mis_text\u001b[49m\u001b[43m,\u001b[49m\n\u001b[0;32m   1887\u001b[0m \u001b[43m    \u001b[49m\u001b[43merrors\u001b[49m\u001b[38;5;241;43m=\u001b[39;49m\u001b[38;5;28;43mself\u001b[39;49m\u001b[38;5;241;43m.\u001b[39;49m\u001b[43moptions\u001b[49m\u001b[38;5;241;43m.\u001b[39;49m\u001b[43mget\u001b[49m\u001b[43m(\u001b[49m\u001b[38;5;124;43m\"\u001b[39;49m\u001b[38;5;124;43mencoding_errors\u001b[39;49m\u001b[38;5;124;43m\"\u001b[39;49m\u001b[43m,\u001b[49m\u001b[43m \u001b[49m\u001b[38;5;124;43m\"\u001b[39;49m\u001b[38;5;124;43mstrict\u001b[39;49m\u001b[38;5;124;43m\"\u001b[39;49m\u001b[43m)\u001b[49m\u001b[43m,\u001b[49m\n\u001b[0;32m   1888\u001b[0m \u001b[43m    \u001b[49m\u001b[43mstorage_options\u001b[49m\u001b[38;5;241;43m=\u001b[39;49m\u001b[38;5;28;43mself\u001b[39;49m\u001b[38;5;241;43m.\u001b[39;49m\u001b[43moptions\u001b[49m\u001b[38;5;241;43m.\u001b[39;49m\u001b[43mget\u001b[49m\u001b[43m(\u001b[49m\u001b[38;5;124;43m\"\u001b[39;49m\u001b[38;5;124;43mstorage_options\u001b[39;49m\u001b[38;5;124;43m\"\u001b[39;49m\u001b[43m,\u001b[49m\u001b[43m \u001b[49m\u001b[38;5;28;43;01mNone\u001b[39;49;00m\u001b[43m)\u001b[49m\u001b[43m,\u001b[49m\n\u001b[0;32m   1889\u001b[0m \u001b[43m\u001b[49m\u001b[43m)\u001b[49m\n\u001b[0;32m   1890\u001b[0m \u001b[38;5;28;01massert\u001b[39;00m \u001b[38;5;28mself\u001b[39m\u001b[38;5;241m.\u001b[39mhandles \u001b[38;5;129;01mis\u001b[39;00m \u001b[38;5;129;01mnot\u001b[39;00m \u001b[38;5;28;01mNone\u001b[39;00m\n\u001b[0;32m   1891\u001b[0m f \u001b[38;5;241m=\u001b[39m \u001b[38;5;28mself\u001b[39m\u001b[38;5;241m.\u001b[39mhandles\u001b[38;5;241m.\u001b[39mhandle\n",
      "File \u001b[1;32m~\\AppData\\Local\\Programs\\Python\\Python312\\Lib\\site-packages\\pandas\\io\\common.py:873\u001b[0m, in \u001b[0;36mget_handle\u001b[1;34m(path_or_buf, mode, encoding, compression, memory_map, is_text, errors, storage_options)\u001b[0m\n\u001b[0;32m    868\u001b[0m \u001b[38;5;28;01melif\u001b[39;00m \u001b[38;5;28misinstance\u001b[39m(handle, \u001b[38;5;28mstr\u001b[39m):\n\u001b[0;32m    869\u001b[0m     \u001b[38;5;66;03m# Check whether the filename is to be opened in binary mode.\u001b[39;00m\n\u001b[0;32m    870\u001b[0m     \u001b[38;5;66;03m# Binary mode does not support 'encoding' and 'newline'.\u001b[39;00m\n\u001b[0;32m    871\u001b[0m     \u001b[38;5;28;01mif\u001b[39;00m ioargs\u001b[38;5;241m.\u001b[39mencoding \u001b[38;5;129;01mand\u001b[39;00m \u001b[38;5;124m\"\u001b[39m\u001b[38;5;124mb\u001b[39m\u001b[38;5;124m\"\u001b[39m \u001b[38;5;129;01mnot\u001b[39;00m \u001b[38;5;129;01min\u001b[39;00m ioargs\u001b[38;5;241m.\u001b[39mmode:\n\u001b[0;32m    872\u001b[0m         \u001b[38;5;66;03m# Encoding\u001b[39;00m\n\u001b[1;32m--> 873\u001b[0m         handle \u001b[38;5;241m=\u001b[39m \u001b[38;5;28;43mopen\u001b[39;49m\u001b[43m(\u001b[49m\n\u001b[0;32m    874\u001b[0m \u001b[43m            \u001b[49m\u001b[43mhandle\u001b[49m\u001b[43m,\u001b[49m\n\u001b[0;32m    875\u001b[0m \u001b[43m            \u001b[49m\u001b[43mioargs\u001b[49m\u001b[38;5;241;43m.\u001b[39;49m\u001b[43mmode\u001b[49m\u001b[43m,\u001b[49m\n\u001b[0;32m    876\u001b[0m \u001b[43m            \u001b[49m\u001b[43mencoding\u001b[49m\u001b[38;5;241;43m=\u001b[39;49m\u001b[43mioargs\u001b[49m\u001b[38;5;241;43m.\u001b[39;49m\u001b[43mencoding\u001b[49m\u001b[43m,\u001b[49m\n\u001b[0;32m    877\u001b[0m \u001b[43m            \u001b[49m\u001b[43merrors\u001b[49m\u001b[38;5;241;43m=\u001b[39;49m\u001b[43merrors\u001b[49m\u001b[43m,\u001b[49m\n\u001b[0;32m    878\u001b[0m \u001b[43m            \u001b[49m\u001b[43mnewline\u001b[49m\u001b[38;5;241;43m=\u001b[39;49m\u001b[38;5;124;43m\"\u001b[39;49m\u001b[38;5;124;43m\"\u001b[39;49m\u001b[43m,\u001b[49m\n\u001b[0;32m    879\u001b[0m \u001b[43m        \u001b[49m\u001b[43m)\u001b[49m\n\u001b[0;32m    880\u001b[0m     \u001b[38;5;28;01melse\u001b[39;00m:\n\u001b[0;32m    881\u001b[0m         \u001b[38;5;66;03m# Binary mode\u001b[39;00m\n\u001b[0;32m    882\u001b[0m         handle \u001b[38;5;241m=\u001b[39m \u001b[38;5;28mopen\u001b[39m(handle, ioargs\u001b[38;5;241m.\u001b[39mmode)\n",
      "\u001b[1;31mFileNotFoundError\u001b[0m: [Errno 2] No such file or directory: 'C:\\\\Users\\\\jayxp\\\\Downloads\\\\nycflights.csv'"
     ]
    }
   ],
   "source": [
    "import pandas as pd\n",
    "import numpy as np\n",
    "import scipy.stats as stats\n",
    "\n",
    "\n",
    "flights = pd.read_csv(r\"C:\\Users\\jayxp\\Downloads\\nycflights.csv\")"
   ]
  },
  {
   "cell_type": "markdown",
   "id": "142f2548-9fe7-4211-bfdc-dccfc5cd021d",
   "metadata": {},
   "source": [
    "## 1. Write a function that takes a single numerical variable and returns three values, the minimum number, the median, and the maximum number of the vector. Test your function using the month column of the flights data set."
   ]
  },
  {
   "cell_type": "code",
   "execution_count": 19,
   "id": "866ba6a8-9073-488c-bb3c-48311edc477d",
   "metadata": {},
   "outputs": [
    {
     "name": "stdout",
     "output_type": "stream",
     "text": [
      "(1, 7.0, 12)\n"
     ]
    }
   ],
   "source": [
    "def min_median_max(values):\n",
    "    return np.min(values), np.median(values), np.max(values)\n",
    "\n",
    "print(min_median_max(flights[\"month\"]))\n",
    "  "
   ]
  },
  {
   "cell_type": "markdown",
   "id": "35fb390e-262f-484f-8043-681469599638",
   "metadata": {},
   "source": [
    "## 2. Explain your reasoning for choosing your function's name in the previous question."
   ]
  },
  {
   "cell_type": "markdown",
   "id": "552d2441-4ef3-4bf4-8e1e-ebdc65feb150",
   "metadata": {},
   "source": [
    "The reason why I chose min_median_max for the function's name is because it does exactly what it does. The function outputs the minimum, median, and maxiumum of the vector."
   ]
  },
  {
   "cell_type": "markdown",
   "id": "65fd58cd-9095-4048-a41c-7566b66d8d80",
   "metadata": {},
   "source": [
    "## 3. Write a function that categorizes a numerical variable in the flights data into four categories..\n",
    "The function should have two arguments. The first should represent the data object and the second should represent a column name in the data object.\r\n",
    "\r\n",
    "The function should return one new column which categorizes the dep_time column into four categories in the following manner. For any particular variable in the flights data that represents military time (i.e., 0 to 2400 where 1200 represents 12 in the afternoon and 2400 represents midnight), the function should classify values into four categories:\r\n",
    "\r\n",
    "\"Morning\" for values from 5 am to 11:59 am\r\n",
    "\r\n",
    "\"Afternoon\" for values from 12 pm to 4:59 pm\r\n",
    "\r\n",
    "\"Evening\" for values from 5 pm to 8:59 pm\r\n",
    "\r\n",
    "\"Night\" for values from 9 pm to 4:59 am\r\n",
    "\r\n",
    "Test your function using the dep_time column of the flights dataset. Print a frequency table of the output."
   ]
  },
  {
   "cell_type": "code",
   "execution_count": 23,
   "id": "96bee2f6-774f-4db5-a50a-460ccbeedeed",
   "metadata": {},
   "outputs": [
    {
     "name": "stdout",
     "output_type": "stream",
     "text": [
      "        dep_time time_of_day\n",
      "0          517.0     Morning\n",
      "1          533.0     Morning\n",
      "2          542.0     Morning\n",
      "3          544.0     Morning\n",
      "4          554.0     Morning\n",
      "336771       NaN        None\n",
      "336772       NaN        None\n",
      "336773       NaN        None\n",
      "336774       NaN        None\n",
      "336775       NaN        None\n",
      "time_of_day\n",
      "Morning      129539\n",
      "Afternoon     98617\n",
      "Evening       79793\n",
      "Night         20572\n",
      "Name: count, dtype: int64\n"
     ]
    }
   ],
   "source": [
    "def output_time_of_day(data , column):\n",
    "    time_of_day = [] #Creating an empty directory \n",
    "    for time in data[column]:\n",
    "        if pd.isna(time):\n",
    "            time_of_day.append(None) #Append will basically add to the list. \n",
    "        elif 500 <= time < 1200:\n",
    "            time_of_day.append(\"Morning\")\n",
    "        elif 1200 <= time < 1700:\n",
    "            time_of_day.append(\"Afternoon\")\n",
    "        elif 1700 <= time < 2100:\n",
    "            time_of_day.append(\"Evening\")\n",
    "        else:\n",
    "            time_of_day.append(\"Night\")\n",
    "    data[\"time_of_day\"] = time_of_day  # Add new column to DataFrame\n",
    "    return data\n",
    "output_time_of_day(flights, 'dep_time')\n",
    "\n",
    "#Printing the top 5 and bottom 5 \n",
    "print(pd.concat([flights[['dep_time', 'time_of_day']].head(5), flights[['dep_time', 'time_of_day']].tail(5)]))\n",
    "\n",
    "#Also printing the frequency table of the output\n",
    "print(flights['time_of_day'].value_counts())\n",
    "\n",
    "      "
   ]
  },
  {
   "cell_type": "markdown",
   "id": "30313db9-32ae-4b67-8a23-cc7f74097e49",
   "metadata": {},
   "source": [
    "## 4. Explain your reasoning for choosing your function's name in the previous question."
   ]
  },
  {
   "cell_type": "markdown",
   "id": "92acae49-815d-4418-aa89-a8ed8898354e",
   "metadata": {},
   "source": [
    "I chose the function name of 'output_time_of_day' because thats what the function does. The function name is clear and anyone that looks at the function could easily tell that the function will output the time of day. "
   ]
  },
  {
   "cell_type": "markdown",
   "id": "5c274dab-6bc1-4b5e-a675-f7b54eeefedd",
   "metadata": {},
   "source": [
    "## 5. Write a function that calculates the median of all numeric variables in the flights dataset."
   ]
  },
  {
   "cell_type": "code",
   "execution_count": 27,
   "id": "42a574e6-03d4-4bca-84cd-0c53b1eafe09",
   "metadata": {},
   "outputs": [],
   "source": [
    "## Here I am subsetting the dataframe into numeric columns only, and calling it 'flights_numeric'"
   ]
  },
  {
   "cell_type": "code",
   "execution_count": 28,
   "id": "44d101ea-b0dc-4a25-80e4-221641b36da8",
   "metadata": {},
   "outputs": [
    {
     "name": "stdout",
     "output_type": "stream",
     "text": [
      "Unnamed: 0        168388.5\n",
      "year                2013.0\n",
      "month                  7.0\n",
      "day                   16.0\n",
      "dep_time            1401.0\n",
      "sched_dep_time      1359.0\n",
      "dep_delay             -2.0\n",
      "arr_time            1535.0\n",
      "sched_arr_time      1556.0\n",
      "arr_delay             -5.0\n",
      "flight              1496.0\n",
      "air_time             129.0\n",
      "distance             872.0\n",
      "hour                  13.0\n",
      "minute                29.0\n",
      "dtype: float64\n"
     ]
    }
   ],
   "source": [
    "def median_numeric_columns (df):\n",
    "    numeric_variables = df.select_dtypes(include=['number']) ## Subsetting so that the function only includes numeric variables\n",
    "    column_medians = numeric_variables.median()\n",
    "    return column_medians\n",
    "print(median_numeric_columns(flights))"
   ]
  },
  {
   "cell_type": "markdown",
   "id": "4ed7e64a-3fc9-46cd-b4bc-7b087c4991c6",
   "metadata": {},
   "source": [
    "## 6. Explain your reasoning for choosing your function's name in the previous question."
   ]
  },
  {
   "cell_type": "markdown",
   "id": "32292c28-da5f-468a-8718-6c2eaf3fefb1",
   "metadata": {},
   "source": [
    "I chose this name because I wanted a function that could be adapted for other dataframes as well, not just specific to the flights data. The name directly does what it says it does. It finds the median of the numeirc columns only. "
   ]
  },
  {
   "cell_type": "markdown",
   "id": "378a9801-36bb-433f-88dd-2ba864de4cf6",
   "metadata": {},
   "source": [
    "## 7. Modify the function t_test() we wrote in class together this week so that this function can handle violations to the homogeneity of variance (HOV) assumption. This assumption is described below in case you are not familiar with it. Please read the class activity carefully - as all of those details are relevant."
   ]
  },
  {
   "cell_type": "code",
   "execution_count": 44,
   "id": "de46ef7d-a287-4b2b-8832-a7ac414948ec",
   "metadata": {},
   "outputs": [],
   "source": [
    "def t_test(num_var, bin_var):  \n",
    "    \n",
    "    # Calculate statistics for both groups\n",
    "    group1 = num_var[bin_var == 0]\n",
    "    group2 = num_var[bin_var == 1]\n",
    "   \n",
    "    n1, n2 = group1.shape[0], group2.shape[0] #Sample sizes\n",
    "    s2_1, s2_2 = group1.var(), group2.var() #Sample variances\n",
    "    mean1, mean2 = group1.mean(), group2.mean() #Sample means\n",
    "    mean_diff = mean2 - mean1 # Calculate the mean difference between the two groups\n",
    "\n",
    "    if 0.25 <= (s2_1) / (s2_2) <= 4.00:    \n",
    "        # Standard t-test\n",
    "        DF = n1 + n2 - 2\n",
    "        sp = np.sqrt(((n1 - 1) * s2_1 + (n2 - 1) * s2_2) / DF)\n",
    "        SE_mean_diff = sp * np.sqrt(1/n1 + 1/n2)\n",
    "        t_statistic = mean_diff / SE_mean_diff\n",
    "        p_value = 2 * (1 - stats.t.cdf(np.abs(t_statistic), DF))\n",
    "        test_type = \"Independent samples t-test\" \n",
    "        print(\"The homogeneity of variance assumption was not violated, so an independent samples t-test was conducted\")\n",
    "\n",
    "    else:\n",
    "        # Welch's t-test\n",
    "        SE_mean_diff = np.sqrt(s2_1 / n1 + s2_2 / n2)\n",
    "        t_statistic = mean_diff / SE_mean_diff\n",
    "        df = ((s2_1 / n1 + s2_2 / n2) ** 2) / (((s2_1 / n1) ** 2) / (n1 - 1) + ((s2_2 / n2) ** 2) / (n2 - 1))\n",
    "        p_value = 2 * (1 - stats.t.cdf(np.abs(t_statistic), df))\n",
    "        test_type = \"Welch's t-test\"\n",
    "        print(\"The homogeneity of variance assumption was violated, so Welch's t-test was conducted.\")\n",
    "        DF = df  # For consistency in the results DataFrame\n",
    "\n",
    "    results = pd.DataFrame({\n",
    "        \"Continuous Variable\": [num_var.name],\n",
    "        \"Binary Variable\": [bin_var.name],\n",
    "        \"Total Sample Size\": [n1 + n2],\n",
    "        \"Mean Difference\": [round(mean_diff, 2)], \n",
    "        \"SE of Mean Difference\": [round(SE_mean_diff, 2)],\n",
    "        \"DF\": [DF],\n",
    "        \"t-statistic\": [round(t_statistic, 3)],\n",
    "        \"P-value\": [(\"%.3f\" % p_value).lstrip('0')],\n",
    "        \"Test\": [test_type]\n",
    "    })\n",
    "    return results  "
   ]
  },
  {
   "cell_type": "code",
   "execution_count": 33,
   "id": "08ef3c38-e1b8-4b85-a139-2f845069a3ba",
   "metadata": {},
   "outputs": [],
   "source": [
    "## 8.Import the GED data set we used for the class activity. Call the t_test() function and test it out on the GED data set we used in class. Let the numeric variable be 'income_log' and let the binary variable be 'ged'."
   ]
  },
  {
   "cell_type": "code",
   "execution_count": 48,
   "id": "b6afc43f-b496-43c3-b1cb-bbc31c4a0026",
   "metadata": {},
   "outputs": [
    {
     "name": "stdout",
     "output_type": "stream",
     "text": [
      "The homogeneity of variance assumption was not violated, so an independent samples t-test was conducted\n"
     ]
    },
    {
     "data": {
      "text/html": [
       "<div>\n",
       "<style scoped>\n",
       "    .dataframe tbody tr th:only-of-type {\n",
       "        vertical-align: middle;\n",
       "    }\n",
       "\n",
       "    .dataframe tbody tr th {\n",
       "        vertical-align: top;\n",
       "    }\n",
       "\n",
       "    .dataframe thead th {\n",
       "        text-align: right;\n",
       "    }\n",
       "</style>\n",
       "<table border=\"1\" class=\"dataframe\">\n",
       "  <thead>\n",
       "    <tr style=\"text-align: right;\">\n",
       "      <th></th>\n",
       "      <th>Continuous Variable</th>\n",
       "      <th>Binary Variable</th>\n",
       "      <th>Total Sample Size</th>\n",
       "      <th>Mean Difference</th>\n",
       "      <th>SE of Mean Difference</th>\n",
       "      <th>DF</th>\n",
       "      <th>t-statistic</th>\n",
       "      <th>P-value</th>\n",
       "      <th>Test</th>\n",
       "    </tr>\n",
       "  </thead>\n",
       "  <tbody>\n",
       "    <tr>\n",
       "      <th>0</th>\n",
       "      <td>income_log</td>\n",
       "      <td>ged</td>\n",
       "      <td>5976</td>\n",
       "      <td>-0.48</td>\n",
       "      <td>0.06</td>\n",
       "      <td>5974</td>\n",
       "      <td>-7.458</td>\n",
       "      <td>.000</td>\n",
       "      <td>Independent samples t-test</td>\n",
       "    </tr>\n",
       "  </tbody>\n",
       "</table>\n",
       "</div>"
      ],
      "text/plain": [
       "  Continuous Variable Binary Variable  Total Sample Size  Mean Difference  \\\n",
       "0          income_log             ged               5976            -0.48   \n",
       "\n",
       "   SE of Mean Difference    DF  t-statistic P-value  \\\n",
       "0                   0.06  5974       -7.458    .000   \n",
       "\n",
       "                         Test  \n",
       "0  Independent samples t-test  "
      ]
     },
     "execution_count": 48,
     "metadata": {},
     "output_type": "execute_result"
    }
   ],
   "source": [
    "ged_data = pd.read_csv(r\"C:\\Users\\jayxp\\OneDrive\\Desktop\\MDS\\HOMEWORK THREE MATERIAL\\3 ged_data.csv\")\n",
    "t_test(ged_data['income_log'], ged_data['ged'])"
   ]
  }
 ],
 "metadata": {
  "kernelspec": {
   "display_name": "Python 3 (ipykernel)",
   "language": "python",
   "name": "python3"
  },
  "language_info": {
   "codemirror_mode": {
    "name": "ipython",
    "version": 3
   },
   "file_extension": ".py",
   "mimetype": "text/x-python",
   "name": "python",
   "nbconvert_exporter": "python",
   "pygments_lexer": "ipython3",
   "version": "3.12.5"
  }
 },
 "nbformat": 4,
 "nbformat_minor": 5
}
