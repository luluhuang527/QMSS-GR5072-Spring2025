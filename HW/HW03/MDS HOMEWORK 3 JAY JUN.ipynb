{
 "cells": [
  {
   "cell_type": "code",
   "execution_count": 17,
   "id": "8679b515-3acd-4a3c-aa2a-a2c67a3a2a82",
   "metadata": {},
   "outputs": [],
   "source": [
    "import pandas as pd\n",
    "import numpy as np\n",
    "import scipy.stats as stats\n",
    "\n",
    "\n",
    "flights = pd.read_csv(r\"C:\\Users\\jayxp\\Downloads\\nycflights.csv\")"
   ]
  },
  {
   "cell_type": "markdown",
   "id": "142f2548-9fe7-4211-bfdc-dccfc5cd021d",
   "metadata": {},
   "source": [
    "## 1. Write a function that takes a single numerical variable and returns three values, the minimum number, the median, and the maximum number of the vector. Test your function using the month column of the flights data set."
   ]
  },
  {
   "cell_type": "code",
   "execution_count": 19,
   "id": "866ba6a8-9073-488c-bb3c-48311edc477d",
   "metadata": {},
   "outputs": [
    {
     "name": "stdout",
     "output_type": "stream",
     "text": [
      "(1, 7.0, 12)\n"
     ]
    }
   ],
   "source": [
    "def min_median_max(values):\n",
    "    return np.min(values), np.median(values), np.max(values)\n",
    "\n",
    "print(min_median_max(flights[\"month\"]))\n",
    "  "
   ]
  },
  {
   "cell_type": "markdown",
   "id": "35fb390e-262f-484f-8043-681469599638",
   "metadata": {},
   "source": [
    "## 2. Explain your reasoning for choosing your function's name in the previous question."
   ]
  },
  {
   "cell_type": "markdown",
   "id": "552d2441-4ef3-4bf4-8e1e-ebdc65feb150",
   "metadata": {},
   "source": [
    "The reason why I chose min_median_max for the function's name is because it does exactly what it does. The function outputs the minimum, median, and maxiumum of the vector."
   ]
  },
  {
   "cell_type": "markdown",
   "id": "65fd58cd-9095-4048-a41c-7566b66d8d80",
   "metadata": {},
   "source": [
    "## 3. Write a function that categorizes a numerical variable in the flights data into four categories..\n",
    "The function should have two arguments. The first should represent the data object and the second should represent a column name in the data object.\r\n",
    "\r\n",
    "The function should return one new column which categorizes the dep_time column into four categories in the following manner. For any particular variable in the flights data that represents military time (i.e., 0 to 2400 where 1200 represents 12 in the afternoon and 2400 represents midnight), the function should classify values into four categories:\r\n",
    "\r\n",
    "\"Morning\" for values from 5 am to 11:59 am\r\n",
    "\r\n",
    "\"Afternoon\" for values from 12 pm to 4:59 pm\r\n",
    "\r\n",
    "\"Evening\" for values from 5 pm to 8:59 pm\r\n",
    "\r\n",
    "\"Night\" for values from 9 pm to 4:59 am\r\n",
    "\r\n",
    "Test your function using the dep_time column of the flights dataset. Print a frequency table of the output."
   ]
  },
  {
   "cell_type": "code",
   "execution_count": 23,
   "id": "96bee2f6-774f-4db5-a50a-460ccbeedeed",
   "metadata": {},
   "outputs": [
    {
     "name": "stdout",
     "output_type": "stream",
     "text": [
      "        dep_time time_of_day\n",
      "0          517.0     Morning\n",
      "1          533.0     Morning\n",
      "2          542.0     Morning\n",
      "3          544.0     Morning\n",
      "4          554.0     Morning\n",
      "336771       NaN        None\n",
      "336772       NaN        None\n",
      "336773       NaN        None\n",
      "336774       NaN        None\n",
      "336775       NaN        None\n",
      "time_of_day\n",
      "Morning      129539\n",
      "Afternoon     98617\n",
      "Evening       79793\n",
      "Night         20572\n",
      "Name: count, dtype: int64\n"
     ]
    }
   ],
   "source": [
    "def output_time_of_day(data , column):\n",
    "    time_of_day = [] #Creating an empty directory \n",
    "    for time in data[column]:\n",
    "        if pd.isna(time):\n",
    "            time_of_day.append(None) #Append will basically add to the list. \n",
    "        elif 500 <= time < 1200:\n",
    "            time_of_day.append(\"Morning\")\n",
    "        elif 1200 <= time < 1700:\n",
    "            time_of_day.append(\"Afternoon\")\n",
    "        elif 1700 <= time < 2100:\n",
    "            time_of_day.append(\"Evening\")\n",
    "        else:\n",
    "            time_of_day.append(\"Night\")\n",
    "    data[\"time_of_day\"] = time_of_day  # Add new column to DataFrame\n",
    "    return data\n",
    "output_time_of_day(flights, 'dep_time')\n",
    "\n",
    "#Printing the top 5 and bottom 5 \n",
    "print(pd.concat([flights[['dep_time', 'time_of_day']].head(5), flights[['dep_time', 'time_of_day']].tail(5)]))\n",
    "\n",
    "#Also printing the frequency table of the output\n",
    "print(flights['time_of_day'].value_counts())\n",
    "\n",
    "      "
   ]
  },
  {
   "cell_type": "markdown",
   "id": "30313db9-32ae-4b67-8a23-cc7f74097e49",
   "metadata": {},
   "source": [
    "## 4. Explain your reasoning for choosing your function's name in the previous question."
   ]
  },
  {
   "cell_type": "markdown",
   "id": "92acae49-815d-4418-aa89-a8ed8898354e",
   "metadata": {},
   "source": [
    "I chose the function name of 'output_time_of_day' because thats what the function does. The function name is clear and anyone that looks at the function could easily tell that the function will output the time of day. "
   ]
  },
  {
   "cell_type": "markdown",
   "id": "5c274dab-6bc1-4b5e-a675-f7b54eeefedd",
   "metadata": {},
   "source": [
    "## 5. Write a function that calculates the median of all numeric variables in the flights dataset."
   ]
  },
  {
   "cell_type": "code",
   "execution_count": 27,
   "id": "42a574e6-03d4-4bca-84cd-0c53b1eafe09",
   "metadata": {},
   "outputs": [],
   "source": [
    "## Here I am subsetting the dataframe into numeric columns only, and calling it 'flights_numeric'"
   ]
  },
  {
   "cell_type": "code",
   "execution_count": 28,
   "id": "44d101ea-b0dc-4a25-80e4-221641b36da8",
   "metadata": {},
   "outputs": [
    {
     "name": "stdout",
     "output_type": "stream",
     "text": [
      "Unnamed: 0        168388.5\n",
      "year                2013.0\n",
      "month                  7.0\n",
      "day                   16.0\n",
      "dep_time            1401.0\n",
      "sched_dep_time      1359.0\n",
      "dep_delay             -2.0\n",
      "arr_time            1535.0\n",
      "sched_arr_time      1556.0\n",
      "arr_delay             -5.0\n",
      "flight              1496.0\n",
      "air_time             129.0\n",
      "distance             872.0\n",
      "hour                  13.0\n",
      "minute                29.0\n",
      "dtype: float64\n"
     ]
    }
   ],
   "source": [
    "def median_numeric_columns (df):\n",
    "    numeric_variables = df.select_dtypes(include=['number']) ## Subsetting so that the function only includes numeric variables\n",
    "    column_medians = numeric_variables.median()\n",
    "    return column_medians\n",
    "print(median_numeric_columns(flights))"
   ]
  },
  {
   "cell_type": "markdown",
   "id": "4ed7e64a-3fc9-46cd-b4bc-7b087c4991c6",
   "metadata": {},
   "source": [
    "## 6. Explain your reasoning for choosing your function's name in the previous question."
   ]
  },
  {
   "cell_type": "markdown",
   "id": "32292c28-da5f-468a-8718-6c2eaf3fefb1",
   "metadata": {},
   "source": [
    "I chose this name because I wanted a function that could be adapted for other dataframes as well, not just specific to the flights data. The name directly does what it says it does. It finds the median of the numeirc columns only. "
   ]
  },
  {
   "cell_type": "markdown",
   "id": "378a9801-36bb-433f-88dd-2ba864de4cf6",
   "metadata": {},
   "source": [
    "## 7. Modify the function t_test() we wrote in class together this week so that this function can handle violations to the homogeneity of variance (HOV) assumption. This assumption is described below in case you are not familiar with it. Please read the class activity carefully - as all of those details are relevant."
   ]
  },
  {
   "cell_type": "code",
   "execution_count": 44,
   "id": "de46ef7d-a287-4b2b-8832-a7ac414948ec",
   "metadata": {},
   "outputs": [],
   "source": [
    "def t_test(num_var, bin_var):  \n",
    "    \n",
    "    # Calculate statistics for both groups\n",
    "    group1 = num_var[bin_var == 0]\n",
    "    group2 = num_var[bin_var == 1]\n",
    "   \n",
    "    n1, n2 = group1.shape[0], group2.shape[0] #Sample sizes\n",
    "    s2_1, s2_2 = group1.var(), group2.var() #Sample variances\n",
    "    mean1, mean2 = group1.mean(), group2.mean() #Sample means\n",
    "    mean_diff = mean2 - mean1 # Calculate the mean difference between the two groups\n",
    "\n",
    "    if 0.25 <= (s2_1) / (s2_2) <= 4.00:    \n",
    "        # Standard t-test\n",
    "        DF = n1 + n2 - 2\n",
    "        sp = np.sqrt(((n1 - 1) * s2_1 + (n2 - 1) * s2_2) / DF)\n",
    "        SE_mean_diff = sp * np.sqrt(1/n1 + 1/n2)\n",
    "        t_statistic = mean_diff / SE_mean_diff\n",
    "        p_value = 2 * (1 - stats.t.cdf(np.abs(t_statistic), DF))\n",
    "        test_type = \"Independent samples t-test\" \n",
    "        print(\"The homogeneity of variance assumption was not violated, so an independent samples t-test was conducted\")\n",
    "\n",
    "    else:\n",
    "        # Welch's t-test\n",
    "        SE_mean_diff = np.sqrt(s2_1 / n1 + s2_2 / n2)\n",
    "        t_statistic = mean_diff / SE_mean_diff\n",
    "        df = ((s2_1 / n1 + s2_2 / n2) ** 2) / (((s2_1 / n1) ** 2) / (n1 - 1) + ((s2_2 / n2) ** 2) / (n2 - 1))\n",
    "        p_value = 2 * (1 - stats.t.cdf(np.abs(t_statistic), df))\n",
    "        test_type = \"Welch's t-test\"\n",
    "        print(\"The homogeneity of variance assumption was violated, so Welch's t-test was conducted.\")\n",
    "        DF = df  # For consistency in the results DataFrame\n",
    "\n",
    "    results = pd.DataFrame({\n",
    "        \"Continuous Variable\": [num_var.name],\n",
    "        \"Binary Variable\": [bin_var.name],\n",
    "        \"Total Sample Size\": [n1 + n2],\n",
    "        \"Mean Difference\": [round(mean_diff, 2)], \n",
    "        \"SE of Mean Difference\": [round(SE_mean_diff, 2)],\n",
    "        \"DF\": [DF],\n",
    "        \"t-statistic\": [round(t_statistic, 3)],\n",
    "        \"P-value\": [(\"%.3f\" % p_value).lstrip('0')],\n",
    "        \"Test\": [test_type]\n",
    "    })\n",
    "    return results  "
   ]
  },
  {
   "cell_type": "code",
   "execution_count": 33,
   "id": "08ef3c38-e1b8-4b85-a139-2f845069a3ba",
   "metadata": {},
   "outputs": [],
   "source": [
    "## 8.Import the GED data set we used for the class activity. Call the t_test() function and test it out on the GED data set we used in class. Let the numeric variable be 'income_log' and let the binary variable be 'ged'."
   ]
  },
  {
   "cell_type": "code",
   "execution_count": 48,
   "id": "b6afc43f-b496-43c3-b1cb-bbc31c4a0026",
   "metadata": {},
   "outputs": [
    {
     "name": "stdout",
     "output_type": "stream",
     "text": [
      "The homogeneity of variance assumption was not violated, so an independent samples t-test was conducted\n"
     ]
    },
    {
     "data": {
      "text/html": [
       "<div>\n",
       "<style scoped>\n",
       "    .dataframe tbody tr th:only-of-type {\n",
       "        vertical-align: middle;\n",
       "    }\n",
       "\n",
       "    .dataframe tbody tr th {\n",
       "        vertical-align: top;\n",
       "    }\n",
       "\n",
       "    .dataframe thead th {\n",
       "        text-align: right;\n",
       "    }\n",
       "</style>\n",
       "<table border=\"1\" class=\"dataframe\">\n",
       "  <thead>\n",
       "    <tr style=\"text-align: right;\">\n",
       "      <th></th>\n",
       "      <th>Continuous Variable</th>\n",
       "      <th>Binary Variable</th>\n",
       "      <th>Total Sample Size</th>\n",
       "      <th>Mean Difference</th>\n",
       "      <th>SE of Mean Difference</th>\n",
       "      <th>DF</th>\n",
       "      <th>t-statistic</th>\n",
       "      <th>P-value</th>\n",
       "      <th>Test</th>\n",
       "    </tr>\n",
       "  </thead>\n",
       "  <tbody>\n",
       "    <tr>\n",
       "      <th>0</th>\n",
       "      <td>income_log</td>\n",
       "      <td>ged</td>\n",
       "      <td>5976</td>\n",
       "      <td>-0.48</td>\n",
       "      <td>0.06</td>\n",
       "      <td>5974</td>\n",
       "      <td>-7.458</td>\n",
       "      <td>.000</td>\n",
       "      <td>Independent samples t-test</td>\n",
       "    </tr>\n",
       "  </tbody>\n",
       "</table>\n",
       "</div>"
      ],
      "text/plain": [
       "  Continuous Variable Binary Variable  Total Sample Size  Mean Difference  \\\n",
       "0          income_log             ged               5976            -0.48   \n",
       "\n",
       "   SE of Mean Difference    DF  t-statistic P-value  \\\n",
       "0                   0.06  5974       -7.458    .000   \n",
       "\n",
       "                         Test  \n",
       "0  Independent samples t-test  "
      ]
     },
     "execution_count": 48,
     "metadata": {},
     "output_type": "execute_result"
    }
   ],
   "source": [
    "ged_data = pd.read_csv(r\"C:\\Users\\jayxp\\OneDrive\\Desktop\\MDS\\HOMEWORK THREE MATERIAL\\3 ged_data.csv\")\n",
    "t_test(ged_data['income_log'], ged_data['ged'])"
   ]
  }
 ],
 "metadata": {
  "kernelspec": {
   "display_name": "Python [conda env:base] *",
   "language": "python",
   "name": "conda-base-py"
  },
  "language_info": {
   "codemirror_mode": {
    "name": "ipython",
    "version": 3
   },
   "file_extension": ".py",
   "mimetype": "text/x-python",
   "name": "python",
   "nbconvert_exporter": "python",
   "pygments_lexer": "ipython3",
   "version": "3.12.4"
  }
 },
 "nbformat": 4,
 "nbformat_minor": 5
}
