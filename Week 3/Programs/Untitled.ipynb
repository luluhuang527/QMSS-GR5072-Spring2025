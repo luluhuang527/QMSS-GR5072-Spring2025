{
 "cells": [
  {
   "cell_type": "code",
   "execution_count": 1,
   "id": "9c85943d-396d-4949-9501-8362a746f931",
   "metadata": {},
   "outputs": [
    {
     "name": "stderr",
     "output_type": "stream",
     "text": [
      "C:\\Users\\lulu\\AppData\\Local\\Temp\\ipykernel_20196\\1210116229.py:4: DtypeWarning: Columns (15,19) have mixed types. Specify dtype option on import or set low_memory=False.\n",
      "  df1 = pd.read_csv(r\"C:\\Users\\lulu\\Desktop\\Columbia Spring\\DSPP\\russia_052020_tweets_csv_hashed_1.csv\")\n",
      "C:\\Users\\lulu\\AppData\\Local\\Temp\\ipykernel_20196\\1210116229.py:5: DtypeWarning: Columns (15) have mixed types. Specify dtype option on import or set low_memory=False.\n",
      "  df2 = pd.read_csv(r\"C:\\Users\\lulu\\Desktop\\Columbia Spring\\DSPP\\russia_052020_tweets_csv_hashed_2.csv\")\n"
     ]
    },
    {
     "name": "stdout",
     "output_type": "stream",
     "text": [
      "Merged DataFrame shape: (3434792, 30)\n",
      "               tweetid     userid user_display_name user_screen_name  \\\n",
      "0  1194715354993512448  148300116            161.ru            161ru   \n",
      "1  1153323001859006464  148300116            161.ru            161ru   \n",
      "2  1156994905069248513  148300116            161.ru            161ru   \n",
      "3  1167520679853469696  148300116            161.ru            161ru   \n",
      "4  1161132873522524160  148300116            161.ru            161ru   \n",
      "\n",
      "  user_reported_location                           user_profile_description  \\\n",
      "0         Ростов-на-Дону  Главные новости Ростова, видеосюжеты, фоторепо...   \n",
      "1         Ростов-на-Дону  Главные новости Ростова, видеосюжеты, фоторепо...   \n",
      "2         Ростов-на-Дону  Главные новости Ростова, видеосюжеты, фоторепо...   \n",
      "3         Ростов-на-Дону  Главные новости Ростова, видеосюжеты, фоторепо...   \n",
      "4         Ростов-на-Дону  Главные новости Ростова, видеосюжеты, фоторепо...   \n",
      "\n",
      "          user_profile_url  follower_count  following_count  \\\n",
      "0  https://t.co/FOdkdnBH5I          140795              108   \n",
      "1  https://t.co/FOdkdnBH5I          140795              108   \n",
      "2  https://t.co/FOdkdnBH5I          140795              108   \n",
      "3  https://t.co/FOdkdnBH5I          140795              108   \n",
      "4  https://t.co/FOdkdnBH5I          140795              108   \n",
      "\n",
      "  account_creation_date  ... retweet_tweetid latitude longitude quote_count  \\\n",
      "0            2010-05-26  ...             NaN   absent    absent           0   \n",
      "1            2010-05-26  ...             NaN   absent    absent           1   \n",
      "2            2010-05-26  ...             NaN   absent    absent           0   \n",
      "3            2010-05-26  ...             NaN   absent    absent           0   \n",
      "4            2010-05-26  ...             NaN   absent    absent           0   \n",
      "\n",
      "  reply_count like_count  retweet_count  \\\n",
      "0           0          2              0   \n",
      "1           2          2              2   \n",
      "2           0          1              0   \n",
      "3           2          2              2   \n",
      "4           1          0              4   \n",
      "\n",
      "                                 hashtags  \\\n",
      "0           ['Ростов', 'ГУФСИН', 'арест']   \n",
      "1  ['Ростов', 'недвижимость', 'криминал']   \n",
      "2                                      []   \n",
      "3                 ['пожар', 'гориткамыш']   \n",
      "4                 ['Ростов', 'Донинвест']   \n",
      "\n",
      "                                                urls user_mentions  \n",
      "0  ['https://161.ru/text/criminal/66348043/?utm_s...            []  \n",
      "1  ['https://161.ru/text/criminal/66170119?utm_so...            []  \n",
      "2  ['https://161.ru/text/incidents/66182695/?utm_...            []  \n",
      "3  ['https://161.ru/text/incidents/66217903?utm_s...            []  \n",
      "4  ['https://161.ru/text/criminal/66194998/?utm_s...            []  \n",
      "\n",
      "[5 rows x 30 columns]\n"
     ]
    }
   ],
   "source": [
    "import pandas as pd\n",
    "\n",
    "# Load the two datasets\n",
    "df1 = pd.read_csv(r\"C:\\Users\\lulu\\Desktop\\Columbia Spring\\DSPP\\russia_052020_tweets_csv_hashed_1.csv\")\n",
    "df2 = pd.read_csv(r\"C:\\Users\\lulu\\Desktop\\Columbia Spring\\DSPP\\russia_052020_tweets_csv_hashed_2.csv\")\n",
    "\n",
    "# Merge the datasets (concatenate them row-wise)\n",
    "merged_df = pd.concat([df1, df2], axis=0, ignore_index=True)\n",
    "\n",
    "# Check the shape of the merged dataset\n",
    "print(f\"Merged DataFrame shape: {merged_df.shape}\")\n",
    "\n",
    "# Check the first few rows of the merged dataset to verify\n",
    "print(merged_df.head())"
   ]
  },
  {
   "cell_type": "code",
   "execution_count": 3,
   "id": "690e711a-5006-4f9a-9f2a-ed46ad3f58ea",
   "metadata": {},
   "outputs": [
    {
     "name": "stdout",
     "output_type": "stream",
     "text": [
      "Merged dataset saved successfully!\n"
     ]
    }
   ],
   "source": [
    "# Save the merged DataFrame to a CSV file in the same directory\n",
    "merged_df.to_csv(r\"C:\\Users\\lulu\\Desktop\\Columbia Spring\\DSPP\\russia_052020_tweets_merged.csv\", index=False)\n",
    "\n",
    "print(\"Merged dataset saved successfully!\")\n"
   ]
  },
  {
   "cell_type": "code",
   "execution_count": 4,
   "id": "f4402026-67ce-4031-8f67-35963c32fd98",
   "metadata": {},
   "outputs": [
    {
     "name": "stdout",
     "output_type": "stream",
     "text": [
      "in_reply_to_userid\n",
      "retweet_userid\n"
     ]
    }
   ],
   "source": [
    "print(df1.columns[15])\n",
    "print(df1.columns[19])\n"
   ]
  },
  {
   "cell_type": "code",
   "execution_count": 5,
   "id": "c03e82a3-1f3a-413a-b2f2-44296b8318bb",
   "metadata": {},
   "outputs": [
    {
     "name": "stdout",
     "output_type": "stream",
     "text": [
      "Rows in df1: 3128489\n",
      "Rows in df2: 306303\n"
     ]
    }
   ],
   "source": [
    "print(f\"Rows in df1: {len(df1)}\")\n",
    "print(f\"Rows in df2: {len(df2)}\")\n"
   ]
  },
  {
   "cell_type": "code",
   "execution_count": 6,
   "id": "48f42196-6b91-4c8e-a013-2fbed5cf86d5",
   "metadata": {},
   "outputs": [
    {
     "data": {
      "text/plain": [
       "3434792"
      ]
     },
     "execution_count": 6,
     "metadata": {},
     "output_type": "execute_result"
    }
   ],
   "source": [
    "len(merged_df)"
   ]
  },
  {
   "cell_type": "code",
   "execution_count": null,
   "id": "0be947be-3144-46c6-8b65-6a11cb00d558",
   "metadata": {},
   "outputs": [],
   "source": []
  }
 ],
 "metadata": {
  "kernelspec": {
   "display_name": "Python 3 (ipykernel)",
   "language": "python",
   "name": "python3"
  },
  "language_info": {
   "codemirror_mode": {
    "name": "ipython",
    "version": 3
   },
   "file_extension": ".py",
   "mimetype": "text/x-python",
   "name": "python",
   "nbconvert_exporter": "python",
   "pygments_lexer": "ipython3",
   "version": "3.12.5"
  }
 },
 "nbformat": 4,
 "nbformat_minor": 5
}
